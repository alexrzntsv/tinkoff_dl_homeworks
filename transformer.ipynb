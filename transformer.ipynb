{
 "cells": [
  {
   "cell_type": "markdown",
   "id": "8fb01b59",
   "metadata": {
    "id": "8fb01b59"
   },
   "source": [
    "# RNN & Attention: HW\n",
    "\n",
    "Привет! Это твоё домашнее задание: сделать модель, которая может переводить тексты с немецкого языка в англиский. Для обучения будет использоваться датасет [wmt-14](https://huggingface.co/datasets/wmt14). Для проверки будет использоваться BLEU на тестовой выборке и 10 примеров перевода вашей модели. В этом ноутбуке есть скелет для обучения модели трансформера. Но вы можете пользоваться и RNN, если вы считаете что можете обучить её под эту задачу. Главное -- получить `submission.yaml`, используя нейросети.\n",
    "\n",
    "**!Внимание!** В этой домашней работе нельзя пользоваться библиотекой `transformers`.\n"
   ]
  },
  {
   "cell_type": "code",
   "execution_count": 1,
   "id": "ac2dcf80",
   "metadata": {
    "id": "ac2dcf80"
   },
   "outputs": [],
   "source": [
    "import subprocess\n",
    "import sys\n",
    "\n",
    "\n",
    "IN_COLAB = 'google.colab' in sys.modules\n",
    "\n",
    "if IN_COLAB:\n",
    "    subprocess.run(\"pip install datasets nltk gensim einops evaluate\", shell=True)\n",
    "    subprocess.run(\"python -m nltk.downloader punkt\", shell=True)"
   ]
  },
  {
   "cell_type": "code",
   "execution_count": 3,
   "id": "a46f4d17",
   "metadata": {
    "id": "a46f4d17"
   },
   "outputs": [],
   "source": [
    "import torch\n",
    "import nltk\n",
    "import einops\n",
    "import evaluate\n",
    "import numpy as np\n",
    "\n",
    "from datasets import load_dataset"
   ]
  },
  {
   "cell_type": "code",
   "execution_count": 4,
   "id": "8c75a154",
   "metadata": {
    "id": "8c75a154"
   },
   "outputs": [],
   "source": [
    "bleu = evaluate.load(\"bleu\")"
   ]
  },
  {
   "cell_type": "markdown",
   "id": "36734faf",
   "metadata": {
    "id": "36734faf"
   },
   "source": [
    "# Данные\n",
    "\n",
    "В этой части подготовьте данные для обучения. Не забудьте добавить \"BOS\", \"EOS\" и \"UNK\" токены в ваши словари.\n"
   ]
  },
  {
   "cell_type": "code",
   "execution_count": 77,
   "id": "17509c82",
   "metadata": {
    "colab": {
     "base_uri": "https://localhost:8080/",
     "height": 66,
     "referenced_widgets": [
      "acd19f6a8ad94f5bb28671efa29504f8",
      "a525cfe339ca4ef69ec1027fbff39cf8",
      "0d3ab96559df4fe5a4b9a46e4f951ee8",
      "e6c0945fdcdf4cc8972fe6e6145cb0bb",
      "ff0b8ae6b2d146b4b37b8bad86f5afe1",
      "56e9929df2ca4166871ff6cd7f73abd8",
      "7e58161685c04c1f81d2c815704e9dda",
      "4efc1becfdaf481a9045eea2d0e5d95d",
      "3c4c6d301c37438793b17063c8ced1bb",
      "1c6e0d4112d547ecba9312569520be89",
      "51ec9e01f835437aa8fc7e22595ed03e"
     ]
    },
    "id": "17509c82",
    "outputId": "892b610a-85a0-496e-b22b-a95843ec3b21"
   },
   "outputs": [
    {
     "name": "stderr",
     "output_type": "stream",
     "text": [
      "Found cached dataset wmt14 (/home/natitov/.cache/huggingface/datasets/wmt14/de-en/1.0.0/2de185b074515e97618524d69f5e27ee7545dcbed4aa9bc1a4235710ffca33f4)\n"
     ]
    },
    {
     "data": {
      "application/vnd.jupyter.widget-view+json": {
       "model_id": "774e37b3c4174fe9b464df357536ad6a",
       "version_major": 2,
       "version_minor": 0
      },
      "text/plain": [
       "  0%|          | 0/3 [00:00<?, ?it/s]"
      ]
     },
     "metadata": {},
     "output_type": "display_data"
    }
   ],
   "source": [
    "wmt14 = load_dataset(\"wmt14\", \"de-en\")"
   ]
  },
  {
   "cell_type": "code",
   "execution_count": 78,
   "id": "ae05e171",
   "metadata": {},
   "outputs": [
    {
     "data": {
      "text/plain": [
       "{'translation': {'de': 'Wiederaufnahme der Sitzungsperiode',\n",
       "  'en': 'Resumption of the session'}}"
      ]
     },
     "execution_count": 78,
     "metadata": {},
     "output_type": "execute_result"
    }
   ],
   "source": [
    "wmt14[\"train\"][0]"
   ]
  },
  {
   "cell_type": "code",
   "execution_count": 79,
   "id": "708afb49",
   "metadata": {},
   "outputs": [
    {
     "name": "stderr",
     "output_type": "stream",
     "text": [
      "[nltk_data] Downloading package omw-1.4 to /home/natitov/nltk_data...\n",
      "[nltk_data]   Package omw-1.4 is already up-to-date!\n"
     ]
    },
    {
     "data": {
      "text/plain": [
       "True"
      ]
     },
     "execution_count": 79,
     "metadata": {},
     "output_type": "execute_result"
    }
   ],
   "source": [
    "tokenizer = nltk.WordPunctTokenizer()\n",
    "lemmatizer = nltk.WordNetLemmatizer()\n",
    "nltk.download('omw-1.4')"
   ]
  },
  {
   "cell_type": "code",
   "execution_count": 80,
   "id": "5a807955",
   "metadata": {},
   "outputs": [
    {
     "name": "stderr",
     "output_type": "stream",
     "text": [
      "[nltk_data] Downloading package wordnet to /home/natitov/nltk_data...\n",
      "[nltk_data]   Package wordnet is already up-to-date!\n"
     ]
    },
    {
     "data": {
      "text/plain": [
       "True"
      ]
     },
     "execution_count": 80,
     "metadata": {},
     "output_type": "execute_result"
    }
   ],
   "source": [
    "nltk.download('wordnet')"
   ]
  },
  {
   "cell_type": "code",
   "execution_count": 81,
   "id": "7e086200",
   "metadata": {},
   "outputs": [],
   "source": [
    "def tokenize_pipeline(sentence):\n",
    "    tokens = tokenizer.tokenize(sentence.lower())\n",
    "    lemmatized_tokens = [lemmatizer.lemmatize(token) for token in tokens if token.isalpha()]\n",
    "    return ['BOS'] + lemmatized_tokens + ['EOS']"
   ]
  },
  {
   "cell_type": "code",
   "execution_count": 83,
   "id": "d7766b6e",
   "metadata": {},
   "outputs": [],
   "source": [
    "tokenized_en = [tokenize_pipeline(t[\"translation\"][\"en\"]) for t in wmt14[\"train\"].select(range(100000))]\n",
    "tokenized_de = [tokenize_pipeline(t[\"translation\"][\"de\"]) for t in wmt14[\"train\"].select(range(100000))]"
   ]
  },
  {
   "cell_type": "code",
   "execution_count": 84,
   "id": "a7176587",
   "metadata": {},
   "outputs": [],
   "source": [
    "all_tokenized_en_words = set(w for t in tokenized_en for w in t)\n",
    "all_tokenized_de_words = set(w for t in tokenized_de for w in t)"
   ]
  },
  {
   "cell_type": "code",
   "execution_count": 85,
   "id": "de308f6d",
   "metadata": {},
   "outputs": [],
   "source": [
    "en_words_to_ids = {w: idx+4 for idx, w in enumerate(all_tokenized_en_words)}\n",
    "de_words_to_ids = {w: idx+4 for idx, w in enumerate(all_tokenized_de_words)}"
   ]
  },
  {
   "cell_type": "code",
   "execution_count": 86,
   "id": "f33b9d24",
   "metadata": {},
   "outputs": [],
   "source": [
    "en_words_to_ids[\"PAD\"] = 0\n",
    "en_words_to_ids[\"BOS\"] = 1\n",
    "en_words_to_ids[\"EOS\"] = 2\n",
    "en_words_to_ids[\"UNK\"] = 3\n",
    "\n",
    "de_words_to_ids[\"PAD\"] = 0\n",
    "de_words_to_ids[\"BOS\"] = 1\n",
    "de_words_to_ids[\"EOS\"] = 2\n",
    "de_words_to_ids[\"UNK\"] = 3"
   ]
  },
  {
   "cell_type": "code",
   "execution_count": 87,
   "id": "a06f075b",
   "metadata": {},
   "outputs": [
    {
     "data": {
      "text/plain": [
       "(22317, 67707)"
      ]
     },
     "execution_count": 87,
     "metadata": {},
     "output_type": "execute_result"
    }
   ],
   "source": [
    "len(en_words_to_ids), len(de_words_to_ids)"
   ]
  },
  {
   "cell_type": "code",
   "execution_count": 37,
   "id": "N5CQ4j1gTAj9",
   "metadata": {
    "id": "N5CQ4j1gTAj9"
   },
   "outputs": [],
   "source": [
    "class TranslationDataset(torch.utils.data.Dataset):\n",
    "    def __init__(self, data, en_words_to_ids, de_words_to_ids):\n",
    "        self.data = data\n",
    "        self.en_words_to_ids = en_words_to_ids\n",
    "        self.de_words_to_ids = de_words_to_ids\n",
    "    \n",
    "    def __len__(self):\n",
    "        return len(self.data)\n",
    "    \n",
    "    def __getitem__(self, index):\n",
    "        en_sentence = self.data[index][\"translation\"][\"en\"]\n",
    "        de_sentence = self.data[index][\"translation\"][\"de\"]\n",
    "        \n",
    "        # 3 -- for UNK token\n",
    "        en_tokens = [self.en_words_to_ids.get(w, 3) for w in en_sentence]\n",
    "        de_tokens = [1] + [self.de_words_to_ids.get(w, 3) for w in de_sentence] + [2]\n",
    "        return {'de': de_tokens, 'en': en_tokens}"
   ]
  },
  {
   "cell_type": "code",
   "execution_count": 38,
   "id": "g7J77SFZiSMC",
   "metadata": {
    "colab": {
     "base_uri": "https://localhost:8080/",
     "height": 113,
     "referenced_widgets": [
      "fe376cc63ebc4b04878e08cf056bfa5f",
      "8fd3e77ded3640649bc2927272d182fe",
      "a1dfa9993d5447c9ae8cdd841d3da85d",
      "a59c878a876c4d399a1f4d0dcb83d665",
      "005b816f9afc4d598d0efe92b6e2e2cb",
      "e6e400fb5e514e09b2c7093b9de14bee",
      "55313d5cf7cd4ef9a5cf9176cbc019f2",
      "d06d3702eb6946cc8588529de9d3ca6b",
      "4376e1da99ec4d5c83c6d91be9ccaf6c",
      "900a13ace85e4d47a5c3ef41a0348983",
      "b648581591a04bf7baa66bb428a2cc6a",
      "1a58df6f650045b1b7f801f445667bb3",
      "ece7c11c104642e68410a8c64f524897",
      "d5eed8d61c774a69af0761498287352f",
      "bd47e51c7a634cc280f4afed1d0fe972",
      "633d9bff7d3e48309b0372fc59f4f004",
      "8c3292d2954046c2a1bea7576b0b3e0e",
      "3caea78cc43a42c79020b702df4722d5",
      "903724591b5340c69b8e8e3305a6f383",
      "f96e2aa1aa704bc9a2399aa381044324",
      "9ca0c142d6dd49a2993e5a44bc98aa2a",
      "6dd7aa45d175417e92155cbd962dab3e",
      "efa8f901559f4d278b554da5b956a0a8",
      "ba9aba6aab3340c6a0670d0ffb4f349d",
      "1217e7c0c24645928d1f0235d8858ad2",
      "e64f3b75e0b64c6e8f738c1af6e89217",
      "79eb3cea64c342e5b43688c18a794113",
      "d0255aa55590441b93a29e2949efd687",
      "b6520c99a8924c4e9a49736516022426",
      "fc999e90317b45258952bfd2dce28612",
      "25d7b5c7152b40cfa1658258e37bdc10",
      "3a2ce5780e2240b4bb078e00f9fd7b99",
      "5022c96c2f84468f8e71c107c9930544"
     ]
    },
    "id": "g7J77SFZiSMC",
    "outputId": "a586d769-9ac7-450b-bc2c-e1bbfe613dbf"
   },
   "outputs": [
    {
     "data": {
      "application/vnd.jupyter.widget-view+json": {
       "model_id": "e61baf5a355a4d5193e48b54af28d4a3",
       "version_major": 2,
       "version_minor": 0
      },
      "text/plain": [
       "  0%|          | 0/100000 [00:00<?, ?ex/s]"
      ]
     },
     "metadata": {},
     "output_type": "display_data"
    },
    {
     "data": {
      "application/vnd.jupyter.widget-view+json": {
       "model_id": "a809081b84764b1ea6f349d74bdaba4c",
       "version_major": 2,
       "version_minor": 0
      },
      "text/plain": [
       "  0%|          | 0/3000 [00:00<?, ?ex/s]"
      ]
     },
     "metadata": {},
     "output_type": "display_data"
    },
    {
     "data": {
      "application/vnd.jupyter.widget-view+json": {
       "model_id": "3812ac63cfd74684bd24e028264754aa",
       "version_major": 2,
       "version_minor": 0
      },
      "text/plain": [
       "  0%|          | 0/3003 [00:00<?, ?ex/s]"
      ]
     },
     "metadata": {},
     "output_type": "display_data"
    }
   ],
   "source": [
    "train_dataset = TranslationDataset(wmt14[\"train\"].select(range(100000)), en_words_to_ids, de_words_to_ids)\n",
    "valid_dataset = TranslationDataset(wmt14[\"validation\"], en_words_to_ids, de_words_to_ids)\n",
    "test_dataset = TranslationDataset(wmt14[\"test\"], en_words_to_ids, de_words_to_ids)"
   ]
  },
  {
   "cell_type": "code",
   "execution_count": 41,
   "id": "3_zXD9GBkXQZ",
   "metadata": {
    "id": "3_zXD9GBkXQZ"
   },
   "outputs": [],
   "source": [
    "def collate_fn(batch):\n",
    "    de_batch = []\n",
    "    en_batch = []\n",
    "    for item in batch:\n",
    "        de_batch.append(torch.tensor(item['de']))\n",
    "        en_batch.append(torch.tensor(item['en']))\n",
    "    \n",
    "    en_batch = torch.nn.utils.rnn.pad_sequence(en_batch, padding_value = en_words_to_ids['PAD'], batch_first=True)\n",
    "    de_batch = torch.nn.utils.rnn.pad_sequence(de_batch, padding_value = de_words_to_ids['PAD'], batch_first=True)\n",
    "    return de_batch, en_batch\n"
   ]
  },
  {
   "cell_type": "code",
   "execution_count": 42,
   "id": "Bh19r6ugraOH",
   "metadata": {
    "id": "Bh19r6ugraOH"
   },
   "outputs": [],
   "source": [
    "train_dataloader = torch.utils.data.DataLoader(train_dataset, batch_size=16, collate_fn=collate_fn, shuffle=True)\n",
    "valid_dataloader = torch.utils.data.DataLoader(valid_dataset, batch_size=16, collate_fn=collate_fn)\n",
    "test_dataloader = torch.utils.data.DataLoader(test_dataset, batch_size=16, collate_fn=collate_fn)"
   ]
  },
  {
   "cell_type": "code",
   "execution_count": 43,
   "id": "EcOr1MKCreWU",
   "metadata": {
    "colab": {
     "base_uri": "https://localhost:8080/"
    },
    "id": "EcOr1MKCreWU",
    "outputId": "6f89690b-54df-40fe-a158-76fbd5913744"
   },
   "outputs": [
    {
     "data": {
      "text/plain": [
       "tensor([[   2,   36,    6,  ...,    0,    0,    0],\n",
       "        [   2,  254,  916,  ..., 1083,  104,    3],\n",
       "        [   2,   32,  252,  ...,    0,    0,    0],\n",
       "        ...,\n",
       "        [   2,  254,  273,  ...,    0,    0,    0],\n",
       "        [   2,    7,  119,  ...,    0,    0,    0],\n",
       "        [   2,  254,   37,  ...,    0,    0,    0]])"
      ]
     },
     "execution_count": 43,
     "metadata": {},
     "output_type": "execute_result"
    }
   ],
   "source": [
    "next(iter(train_dataloader))[1]"
   ]
  },
  {
   "cell_type": "markdown",
   "id": "ce8b5439",
   "metadata": {
    "id": "ce8b5439"
   },
   "source": [
    "# Model\n",
    "\n",
    "Сделайте модель, которая может в перевод. Для этой модели потребуется сделать `Encoder` и `Decoder`. Первый будет брать текст на немецком и отдавать информацию про него. Decoder будет брать информацию про немецкий текст и превращать его в английский.\n"
   ]
  },
  {
   "cell_type": "code",
   "execution_count": 26,
   "id": "58a9bc30",
   "metadata": {
    "id": "58a9bc30"
   },
   "outputs": [],
   "source": [
    "# Если вам нужны дополнительные модули, такие как Attention или Transformer layer, то можете добавить их сюда"
   ]
  },
  {
   "cell_type": "markdown",
   "id": "95846299",
   "metadata": {
    "id": "95846299"
   },
   "source": [
    "Для слоев Encoder можете скопировать код из семинара:\n"
   ]
  },
  {
   "cell_type": "code",
   "execution_count": null,
   "id": "5356304c",
   "metadata": {},
   "outputs": [],
   "source": [
    "device = 'cuda' if torch.cuda.is_available() else 'cpu'"
   ]
  },
  {
   "cell_type": "code",
   "execution_count": 45,
   "id": "vp8LTFEFuGRb",
   "metadata": {
    "id": "vp8LTFEFuGRb"
   },
   "outputs": [],
   "source": [
    "import math\n",
    "\n",
    "def attention(K, V, Q, num_heads, mask=None):\n",
    "    batch_size, q_len, hidden_dim = Q.size()\n",
    "    k_len, v_len = K.size(1), V.size(1) \n",
    "    K = K.reshape(batch_size, k_len, num_heads, -1) \n",
    "    V = V.reshape(batch_size, v_len, num_heads, -1) \n",
    "    Q = Q.reshape(batch_size, q_len, num_heads, -1)   \n",
    "    energy = torch.einsum('bqhd,bkhd->bhqk', [Q, K]) \n",
    "    if mask is not None:\n",
    "        energy = energy.masked_fill(mask == 0, -torch.inf)\n",
    "    attention = torch.softmax(energy / math.sqrt(hidden_dim // num_heads), dim=3)\n",
    "    result_headed = torch.einsum('bhql,blhd->bqhd', [attention, V])\n",
    "    return result_headed.reshape(batch_size, q_len, hidden_dim)"
   ]
  },
  {
   "cell_type": "code",
   "execution_count": 46,
   "id": "YGwUAJfEMFSY",
   "metadata": {
    "id": "YGwUAJfEMFSY"
   },
   "outputs": [],
   "source": [
    "class AttentionModule(torch.nn.Module):\n",
    "    def __init__(self, hidden_dim, num_heads):\n",
    "        super().__init__()\n",
    "\n",
    "        self.q_linear = torch.nn.Linear(hidden_dim, hidden_dim)\n",
    "        self.k_linear = torch.nn.Linear(hidden_dim, hidden_dim)\n",
    "        self.v_linear = torch.nn.Linear(hidden_dim, hidden_dim)\n",
    "\n",
    "        self.out_linear = torch.nn.Linear(hidden_dim, hidden_dim)\n",
    "        self.num_heads = num_heads\n",
    "    \n",
    "    def forward(self, key, value, query, mask):\n",
    "        Q = self.q_linear(query)\n",
    "        K = self.k_linear(key)\n",
    "        V = self.v_linear(value)\n",
    "        attention_output = attention(K, V, Q, self.num_heads, mask)\n",
    "        return self.out_linear(attention_output) + query\n",
    "\n",
    "\n",
    "\n",
    "class MLP(torch.nn.Module):\n",
    "    def __init__(self, hidden_dim):\n",
    "        super().__init__()\n",
    "        \n",
    "        self.linear_0 = torch.nn.Linear(hidden_dim, 4 * hidden_dim)\n",
    "        self.linear_1 = torch.nn.Linear(4 * hidden_dim, hidden_dim)\n",
    "    \n",
    "    def forward(self, hidden_state):\n",
    "        return self.linear_1(torch.relu(self.linear_0(hidden_state))) + hidden_state\n",
    "\n",
    "\n",
    "\n",
    "class TransformerLayer(torch.nn.Module):\n",
    "    def __init__(self, hidden_dim, num_heads):\n",
    "        super().__init__()\n",
    "        \n",
    "        self.attention_layer = AttentionModule(hidden_dim, num_heads)\n",
    "        self.mlp_layer = MLP(hidden_dim)\n",
    "        \n",
    "        self.norm = torch.nn.LayerNorm(hidden_dim)\n",
    "        self.dropout = torch.nn.Dropout(0.1)\n",
    "        \n",
    "    def forward(self, value, key, query, mask):\n",
    "        attn_output = self.dropout(self.norm(self.attention_layer(value, key, query, mask)))\n",
    "        mlp_output  = self.dropout(self.norm(self.mlp_layer(attn_output)))\n",
    "        return mlp_output\n",
    "\n",
    "\n",
    "class AutoregressiveTransformerLayer(torch.nn.Module):\n",
    "    def __init__(self, hidden_dim, num_heads):\n",
    "        super().__init__()\n",
    "        \n",
    "        self.self_attention = AttentionModule(hidden_dim, num_heads)\n",
    "        self.out_attention = AttentionModule(hidden_dim, num_heads)\n",
    "        self.mlp = MLP(hidden_dim)\n",
    "        \n",
    "        self.norm = torch.nn.LayerNorm(hidden_dim)\n",
    "        self.dropout = torch.nn.Dropout(0.1)\n",
    "                \n",
    "    def forward(self, hidden_state, encoder_layer_output, source_mask, target_mask):\n",
    "        self_attn = self.dropout(self.norm(self.self_attention(hidden_state, hidden_state, hidden_state, target_mask)))\n",
    "        out_attn = self.dropout(self.norm(self.out_attention(encoder_layer_output, encoder_layer_output, self_attn, source_mask)))\n",
    "        mlp_output = self.dropout(self.norm(self.mlp(out_attn)))\n",
    "        return mlp_output\n",
    "        "
   ]
  },
  {
   "cell_type": "code",
   "execution_count": 49,
   "id": "C0vpGD6GaHp8",
   "metadata": {
    "id": "C0vpGD6GaHp8"
   },
   "outputs": [],
   "source": [
    "class Encoder(torch.nn.Module):\n",
    "    def __init__(self, embedding_size, hidden_dim, max_seq_len, num_heads, num_layers):\n",
    "        super().__init__()\n",
    "        \n",
    "        self.word_embedding = torch.nn.Embedding(embedding_size, hidden_dim)\n",
    "        self.pos_embedding = torch.nn.Embedding(max_seq_len, hidden_dim)\n",
    "        \n",
    "        self.attention_layer_0 = TransformerLayer(hidden_dim, num_heads)\n",
    "        self.attention_layer_1 = TransformerLayer(hidden_dim, num_heads)\n",
    "        self.attention_layer_2 = TransformerLayer(hidden_dim, num_heads)\n",
    "        \n",
    "        self.dropout = torch.nn.Dropout(0.1)\n",
    "        \n",
    "    def forward(self, inputs, mask):\n",
    "        batch_size, seq_len = inputs.shape\n",
    "        word_embs = self.word_embedding(inputs)\n",
    "        pos_embs = self.pos_embedding(torch.arange(0, seq_len).expand(batch_size, seq_len).to(device))\n",
    "        embs =  word_embs + pos_embs\n",
    "        hidden_state = self.dropout(embs)\n",
    "        \n",
    "        hidden_state = self.attention_layer_0(hidden_state, hidden_state, hidden_state, mask)\n",
    "        hidden_state = self.attention_layer_1(hidden_state, hidden_state, hidden_state, mask)\n",
    "        hidden_state = self.attention_layer_2(hidden_state, hidden_state, hidden_state, mask)\n",
    "        \n",
    "        return hidden_state"
   ]
  },
  {
   "cell_type": "markdown",
   "id": "e58b1a9f",
   "metadata": {
    "id": "e58b1a9f"
   },
   "source": [
    "Для Decoder слоя потребуется модифицировать код. Не забудьте, что для декодера требуется другой механизм внимания.\n"
   ]
  },
  {
   "cell_type": "code",
   "execution_count": 51,
   "id": "40cb8ffe",
   "metadata": {
    "id": "40cb8ffe"
   },
   "outputs": [],
   "source": [
    "class Decoder(torch.nn.Module):\n",
    "    def __init__(self, embedding_size, hidden_dim, max_seq_len, num_heads, num_layers):\n",
    "        super().__init__()\n",
    "        \n",
    "        self.word_embedding = torch.nn.Embedding(embedding_size, hidden_dim)\n",
    "        self.pos_embedding = torch.nn.Embedding(max_seq_len, hidden_dim)\n",
    "        \n",
    "        self.attention_layer_0 = AutoregressiveTransformerLayer(hidden_dim, num_heads)\n",
    "        self.attention_layer_1 = AutoregressiveTransformerLayer(hidden_dim, num_heads)\n",
    "        self.attention_layer_2 = AutoregressiveTransformerLayer(hidden_dim, num_heads)\n",
    "        \n",
    "        self.linear = torch.nn.Linear(hidden_dim, embedding_size)\n",
    "        self.dropout = torch.nn.Dropout(0.1)\n",
    "        \n",
    "    def forward(self, input_ids, encoder_output, source_mask, target_mask):\n",
    "        batch_size, seq_len = input_ids.shape\n",
    "        position_ids = torch.arange(0, seq_len).expand(batch_size, seq_len).to('cuda')\n",
    "        word_embds = self.word_embedding(input_ids)\n",
    "        pos_embds = self.pos_embedding(position_ids)\n",
    "        hidden_state = self.dropout(word_embds + pos_embds)\n",
    "        hidden_state = self.attention_layer_0(hidden_state, encoder_output, src_mask, trg_mask)\n",
    "        hidden_state = self.attention_layer_1(hidden_state, encoder_output, src_mask, trg_mask)\n",
    "        hidden_state = self.attention_layer_2(hidden_state, encoder_output, src_mask, trg_mask)\n",
    "        return self.linear(outputs)"
   ]
  },
  {
   "cell_type": "code",
   "execution_count": null,
   "id": "bde26dbb",
   "metadata": {},
   "outputs": [],
   "source": [
    "def source_mask(x):\n",
    "    mask = (x != en_words_to_ids['PAD']).unsqueeze(1).unsqueeze(2)\n",
    "    return mask"
   ]
  },
  {
   "cell_type": "code",
   "execution_count": null,
   "id": "2ac03770",
   "metadata": {},
   "outputs": [],
   "source": [
    "def target_mask(input):\n",
    "    batch_size, inpt_len = input.shape\n",
    "    mask = (input != en_words_to_ids['PAD']).unsqueeze(1).unsqueeze(2)\n",
    "    sub_mask = torch.tril(torch.ones((inpt_len, inpt_len))).expand(batch_size, 1, inpt_len, inpt_len).bool()\n",
    "    mask = mask.to('cpu')\n",
    "    mask = mask & sub_mask\n",
    "    mask = mask.to(device)\n",
    "    return mask"
   ]
  },
  {
   "cell_type": "code",
   "execution_count": 53,
   "id": "877d38de",
   "metadata": {
    "id": "877d38de"
   },
   "outputs": [],
   "source": [
    "class TranslateTransformer(torch.nn.Module):\n",
    "    def __init__(self, source_embeddibg_size, target_embedding_size, hidden_dim, num_heads, max_seq_len, num_layers):\n",
    "        super().__init__()\n",
    "        \n",
    "        self.encoder = Encoder(source_embeddibg_size, hidden_dim, max_seq_len, num_heads, num_layers)\n",
    "        self.decoder = Decoder(target_embedding_size, hidden_dim, max_seq_len, num_heads, num_layers)\n",
    "        \n",
    "    def forward(self, inputs):\n",
    "        x, y = inputs\n",
    "        mask_orig = source_mask(x)\n",
    "        mask_translation = target_mask(y)\n",
    "        encoder_output = self.encoder(x, mask_orig)\n",
    "        decoder_output = self.decoder(y, encoder_output, mask_orig, mask_translation)\n",
    "        return decoder_output"
   ]
  },
  {
   "cell_type": "code",
   "execution_count": 54,
   "id": "ea559051",
   "metadata": {},
   "outputs": [],
   "source": [
    "model =  TranslateTransformer(len(en_words_to_ids), len(de_words_to_ids), 64, 4, 256, 3)\n",
    "optimizer = torch.optim.AdamW(model.parameters(), lr=1e-4)\n",
    "criterion = torch.nn.CrossEntropyLoss(ignore_index = en_words_to_ids['PAD'])\n",
    "scheduler = torch.optim.lr_scheduler.StepLR(optimizer, step_size=2, gamma=0.1)"
   ]
  },
  {
   "cell_type": "code",
   "execution_count": 64,
   "id": "ef9945d1",
   "metadata": {},
   "outputs": [],
   "source": [
    "from tqdm import tqdm\n",
    "\n",
    "def train_epoch(model, data_loader, criterion, optimizer, scheduler, device):\n",
    "    epoch_loss = 0\n",
    "    for x, y in tqdm(data_loader):\n",
    "        x = x.to(device)\n",
    "        y = y.to(device)\n",
    "        \n",
    "        optimizer.zero_grad()\n",
    "        preds = model((x,y[:, : -1]))\n",
    "        y = y[:, 1:].contiguous().view(-1)\n",
    "        en_vocab_len = preds.size(-1)\n",
    "        preds = preds.view(-1, en_vocab_len)\n",
    "        \n",
    "        loss = loss_function(preds, y)\n",
    "        epoch_loss += loss.item()\n",
    "        loss.backward()\n",
    "        optimizer.step()\n",
    "    scheduler.step()\n",
    "    \n",
    "    return epoch_loss / len(data_loader)\n",
    "\n",
    "\n",
    "def eval_epoch(model, data_loader, criterion, device):\n",
    "    epoch_loss = 0\n",
    "    for x, y in tqdm(data_loader):\n",
    "        with torch.no_grad():\n",
    "            x = x.to(device)\n",
    "            y = y.to(device)\n",
    "\n",
    "            preds = model((x,y[:, : -1]))\n",
    "            y = y[:, 1:].contiguous().view(-1)\n",
    "            en_vocab_len = preds.size(-1)\n",
    "            preds = preds.view(-1, en_vocab_len)\n",
    "\n",
    "            loss = loss_function(preds, y)\n",
    "            epoch_loss += loss.item()\n",
    "    return epoch_loss / len(data_loader)"
   ]
  },
  {
   "cell_type": "code",
   "execution_count": 67,
   "id": "8597340a",
   "metadata": {},
   "outputs": [
    {
     "data": {
      "application/vnd.jupyter.widget-view+json": {
       "model_id": "74b71dea7ee24d01a6fb5dba951809cd",
       "version_major": 2,
       "version_minor": 0
      },
      "text/plain": [
       "  0%|          | 0/3125 [00:00<?, ?it/s]"
      ]
     },
     "metadata": {},
     "output_type": "display_data"
    },
    {
     "name": "stdout",
     "output_type": "stream",
     "text": [
      "EPOCH: 1\n",
      "Train loss: 1.7527447938919067\n",
      "Val loss: 2.0938753878816647\n"
     ]
    },
    {
     "data": {
      "application/vnd.jupyter.widget-view+json": {
       "model_id": "ba358073b5ac4718b64616349c7ba8d7",
       "version_major": 2,
       "version_minor": 0
      },
      "text/plain": [
       "  0%|          | 0/3125 [00:00<?, ?it/s]"
      ]
     },
     "metadata": {},
     "output_type": "display_data"
    },
    {
     "name": "stdout",
     "output_type": "stream",
     "text": [
      "EPOCH: 2\n",
      "Train loss: 1.8044270277023315\n",
      "Val loss: 2.0920537951144764\n"
     ]
    },
    {
     "data": {
      "application/vnd.jupyter.widget-view+json": {
       "model_id": "6bcf6aef55cf4cf893196db9be9ace77",
       "version_major": 2,
       "version_minor": 0
      },
      "text/plain": [
       "  0%|          | 0/3125 [00:00<?, ?it/s]"
      ]
     },
     "metadata": {},
     "output_type": "display_data"
    },
    {
     "name": "stdout",
     "output_type": "stream",
     "text": [
      "EPOCH: 3\n",
      "Train loss: 1.5102092027664185\n",
      "Val loss: 2.0921324313955103\n"
     ]
    },
    {
     "data": {
      "application/vnd.jupyter.widget-view+json": {
       "model_id": "4c91b2e9993b4f788f41e100ba5788d8",
       "version_major": 2,
       "version_minor": 0
      },
      "text/plain": [
       "  0%|          | 0/3125 [00:00<?, ?it/s]"
      ]
     },
     "metadata": {},
     "output_type": "display_data"
    },
    {
     "name": "stdout",
     "output_type": "stream",
     "text": [
      "EPOCH: 4\n",
      "Train loss: 1.5152244567871094\n",
      "Val loss: 2.0904776415926345\n"
     ]
    },
    {
     "data": {
      "application/vnd.jupyter.widget-view+json": {
       "model_id": "917f44adf8864c1690631e9d4a89ebf1",
       "version_major": 2,
       "version_minor": 0
      },
      "text/plain": [
       "  0%|          | 0/3125 [00:00<?, ?it/s]"
      ]
     },
     "metadata": {},
     "output_type": "display_data"
    },
    {
     "name": "stdout",
     "output_type": "stream",
     "text": [
      "EPOCH: 5\n",
      "Train loss: 1.8482121229171753\n",
      "Val loss: 2.0902800458542843\n"
     ]
    }
   ],
   "source": [
    "model.to(device)\n",
    "criterion.to(device)\n",
    "num_epochs = 5\n",
    "\n",
    "\n",
    "for i in range(num_epochs):\n",
    "    train_metrics = train_epoch(model, train_dataloader, criterion, optimizer, scheduler, device)\n",
    "    eval_metrics = eval_epoch(model, valid_dataloader, criterion, device)\n",
    "    print(f\"EPOCH: {i+1}\")\n",
    "    print(f'Train loss: {train_metrics}')\n",
    "    print(f'Val loss: {eval_metrics}')\n"
   ]
  },
  {
   "cell_type": "markdown",
   "id": "56ed7ecc",
   "metadata": {
    "id": "56ed7ecc"
   },
   "source": [
    "Чтобы получить перевод, надо сделать функцию для декодинга. Она будет брать предсказания токена на последней позиции и отдавать нужный токен.\n"
   ]
  },
  {
   "cell_type": "code",
   "execution_count": 68,
   "id": "3b28dd58",
   "metadata": {},
   "outputs": [],
   "source": [
    "ids_to_en_words = {v: k for k, v in en_words_to_ids.items()}"
   ]
  },
  {
   "cell_type": "code",
   "execution_count": 69,
   "id": "dab60d59",
   "metadata": {
    "id": "dab60d59"
   },
   "outputs": [],
   "source": [
    "def get_translation(sentence, model):\n",
    "    \n",
    "    sentence = ['BOS'] + list(tokenize_pipeline(sentence)) + ['EOS']\n",
    "    sentence = torch.tensor([de_words_to_ids[word] if word in de_words_to_ids else de_words_to_ids['UNK'] for word in sentence]).unsqueeze(0).to(device)\n",
    "    sentence_mask = source_mask(sentence).to(device)\n",
    "    \n",
    "    model.eval()\n",
    "    with torch.no_grad():\n",
    "        enc_sentence = model.encoder(sentence, sentence_mask)\n",
    "    \n",
    "        target = [de_words_to_ids['BOS']]\n",
    "        target_tokens = []\n",
    "        while True:\n",
    "            target_tensor = torch.tensor(target).unsqueeze(0).to(device)\n",
    "            trg_mask = target_mask(target_tensor)\n",
    "            \n",
    "            preds = model.decoder(target_tensor, enc_sentence, sentence_mask, trg_mask)\n",
    "            last_id = torch.argmax(preds[:, -1, :], dim = -1).item()\n",
    "            \n",
    "            if last_id == de_words_to_ids['EOS']:\n",
    "                break\n",
    "            target.append(last_id)\n",
    "            target_tokens.append(ids_to_en_words[last_id])\n",
    "    return \" \".join(target_tokens)"
   ]
  },
  {
   "cell_type": "markdown",
   "id": "2f0db8c1",
   "metadata": {
    "id": "2f0db8c1"
   },
   "source": [
    "# Result\n",
    "\n",
    "В качестве результата вы должны предоставить bleu вашей модели на тестовой выборке wmt14 и перевод 10 предложений с немецкого на английский.\n"
   ]
  },
  {
   "cell_type": "code",
   "execution_count": 71,
   "id": "ee0505ba",
   "metadata": {
    "id": "ee0505ba"
   },
   "outputs": [],
   "source": [
    "references = [[\" \".join(reference)] for reference in wmt14[\"test\"][\"en_tokens\"]]\n",
    "predictions = [decode(example[\"de\"], model) for example in wmt14[\"test\"][\"translation\"]]"
   ]
  },
  {
   "cell_type": "code",
   "execution_count": 75,
   "id": "9a54a69b",
   "metadata": {},
   "outputs": [
    {
     "data": {
      "text/plain": [
       "0.02294269871806114"
      ]
     },
     "execution_count": 75,
     "metadata": {},
     "output_type": "execute_result"
    }
   ],
   "source": [
    "test_bleu = bleu.compute(predictions=predictions, references=references)\n",
    "test_bleu['bleu']"
   ]
  },
  {
   "cell_type": "code",
   "execution_count": 73,
   "id": "f7e91dce",
   "metadata": {
    "id": "f7e91dce"
   },
   "outputs": [
    {
     "data": {
      "text/plain": [
       "['UNK : more important .',\n",
       " 'two questions : \" UNK or UNK ?',\n",
       " 'this also applies to the UNK of the UNK of UNK .',\n",
       " 'therefore , the main idea of a more important step as a whole : \" \" \" \" \" \" is not a more UNK .',\n",
       " 'there are three problems of UNK .',\n",
       " 'the UNK UNK UNK UNK UNK .',\n",
       " 'a UNK UNK UNK , whether the UNK of the UNK can be taken .',\n",
       " 'UNK UNK has been UNK as a result of UNK , since the UNK of his UNK and UNK .',\n",
       " 'the UNK UNK UNK UNK UNK .',\n",
       " 'they will be UNK with the UNK , with the UNK UNK , with the UNK of their UNK .']"
      ]
     },
     "execution_count": 73,
     "metadata": {},
     "output_type": "execute_result"
    }
   ],
   "source": [
    "de_sentences = [\n",
    "    \"Gutach: Noch mehr Sicherheit für Fußgänger\",\n",
    "    \"Zwei Anlagen so nah beieinander: Absicht oder Schildbürgerstreich?\",\n",
    "    \"Dies bestätigt auch Peter Arnold vom Landratsamt Offenburg.\",\n",
    "    \"Daher sei der Bau einer weiteren Ampel mehr als notwendig: \\\"Sicherheit geht hier einfach vor\\\", so Arnold.\",\n",
    "    \"Pro Fahrtrichtung gibt es drei Lichtanlagen.\",\n",
    "    \"Drückt der Fußgänger den Ampelknopf, testet der obere Radarsensor die Verkehrslage.\",\n",
    "    \"Ein weiteres Radarsensor prüft, ob die Grünphase für den Fußgänger beendet werden kann.\",\n",
    "    \"Josef Winkler schreibt sich seit mehr als 30 Jahren die Nöte seiner Kindheit und Jugend von der Seele.\",\n",
    "    \"Dabei scheint Regisseur Fresacher dem Text wenig zu vertrauen.\",\n",
    "    \"Sie werden hart angefasst, mit dem Kopf unter Wasser getaucht, mit ihren Abendroben an die Wand getackert.\",\n",
    "]\n",
    "en_sentences = [decode(src, model) for src in de_sentences]\n",
    "en_sentences"
   ]
  },
  {
   "cell_type": "code",
   "execution_count": 76,
   "id": "0b29d627",
   "metadata": {
    "id": "0b29d627"
   },
   "outputs": [],
   "source": [
    "import yaml\n",
    "\n",
    "\n",
    "submission = {\n",
    "    \"tasks\": [\n",
    "        {\"task1\": {\"answer\": test_bleu['bleu']}},\n",
    "        {\"task2\": {\"answer\": en_sentences}}\n",
    "    ]\n",
    "}\n",
    "\n",
    "yaml.safe_dump(submission, open(\"submission.yaml\", \"w\"))"
   ]
  }
 ],
 "metadata": {
  "accelerator": "GPU",
  "colab": {
   "provenance": []
  },
  "gpuClass": "standard",
  "kernelspec": {
   "display_name": "Python 3 (ipykernel)",
   "language": "python",
   "name": "python3"
  },
  "language_info": {
   "codemirror_mode": {
    "name": "ipython",
    "version": 3
   },
   "file_extension": ".py",
   "mimetype": "text/x-python",
   "name": "python",
   "nbconvert_exporter": "python",
   "pygments_lexer": "ipython3",
   "version": "3.7.12"
  },
  "vscode": {
   "interpreter": {
    "hash": "b6101cc0f22259a351decd035db171a8dc594425630fb85f7f5ed97194d94dd7"
   }
  },
  "widgets": {
   "application/vnd.jupyter.widget-state+json": {
    "005b816f9afc4d598d0efe92b6e2e2cb": {
     "model_module": "@jupyter-widgets/base",
     "model_module_version": "1.2.0",
     "model_name": "LayoutModel",
     "state": {
      "_model_module": "@jupyter-widgets/base",
      "_model_module_version": "1.2.0",
      "_model_name": "LayoutModel",
      "_view_count": null,
      "_view_module": "@jupyter-widgets/base",
      "_view_module_version": "1.2.0",
      "_view_name": "LayoutView",
      "align_content": null,
      "align_items": null,
      "align_self": null,
      "border": null,
      "bottom": null,
      "display": null,
      "flex": null,
      "flex_flow": null,
      "grid_area": null,
      "grid_auto_columns": null,
      "grid_auto_flow": null,
      "grid_auto_rows": null,
      "grid_column": null,
      "grid_gap": null,
      "grid_row": null,
      "grid_template_areas": null,
      "grid_template_columns": null,
      "grid_template_rows": null,
      "height": null,
      "justify_content": null,
      "justify_items": null,
      "left": null,
      "margin": null,
      "max_height": null,
      "max_width": null,
      "min_height": null,
      "min_width": null,
      "object_fit": null,
      "object_position": null,
      "order": null,
      "overflow": null,
      "overflow_x": null,
      "overflow_y": null,
      "padding": null,
      "right": null,
      "top": null,
      "visibility": null,
      "width": null
     }
    },
    "03bb9119db5e4316851e0fd1c092d779": {
     "model_module": "@jupyter-widgets/controls",
     "model_module_version": "1.5.0",
     "model_name": "HTMLModel",
     "state": {
      "_dom_classes": [],
      "_model_module": "@jupyter-widgets/controls",
      "_model_module_version": "1.5.0",
      "_model_name": "HTMLModel",
      "_view_count": null,
      "_view_module": "@jupyter-widgets/controls",
      "_view_module_version": "1.5.0",
      "_view_name": "HTMLView",
      "description": "",
      "description_tooltip": null,
      "layout": "IPY_MODEL_45d80db8f9a84da8a93cf97838ad4d3f",
      "placeholder": "​",
      "style": "IPY_MODEL_0951463c80114905b74b7f4b71da0c4c",
      "value": " 3000/3000 [00:00&lt;00:00, 15091.62ex/s]"
     }
    },
    "0951463c80114905b74b7f4b71da0c4c": {
     "model_module": "@jupyter-widgets/controls",
     "model_module_version": "1.5.0",
     "model_name": "DescriptionStyleModel",
     "state": {
      "_model_module": "@jupyter-widgets/controls",
      "_model_module_version": "1.5.0",
      "_model_name": "DescriptionStyleModel",
      "_view_count": null,
      "_view_module": "@jupyter-widgets/base",
      "_view_module_version": "1.2.0",
      "_view_name": "StyleView",
      "description_width": ""
     }
    },
    "0d3ab96559df4fe5a4b9a46e4f951ee8": {
     "model_module": "@jupyter-widgets/controls",
     "model_module_version": "1.5.0",
     "model_name": "FloatProgressModel",
     "state": {
      "_dom_classes": [],
      "_model_module": "@jupyter-widgets/controls",
      "_model_module_version": "1.5.0",
      "_model_name": "FloatProgressModel",
      "_view_count": null,
      "_view_module": "@jupyter-widgets/controls",
      "_view_module_version": "1.5.0",
      "_view_name": "ProgressView",
      "bar_style": "success",
      "description": "",
      "description_tooltip": null,
      "layout": "IPY_MODEL_4efc1becfdaf481a9045eea2d0e5d95d",
      "max": 3,
      "min": 0,
      "orientation": "horizontal",
      "style": "IPY_MODEL_3c4c6d301c37438793b17063c8ced1bb",
      "value": 3
     }
    },
    "1217e7c0c24645928d1f0235d8858ad2": {
     "model_module": "@jupyter-widgets/controls",
     "model_module_version": "1.5.0",
     "model_name": "FloatProgressModel",
     "state": {
      "_dom_classes": [],
      "_model_module": "@jupyter-widgets/controls",
      "_model_module_version": "1.5.0",
      "_model_name": "FloatProgressModel",
      "_view_count": null,
      "_view_module": "@jupyter-widgets/controls",
      "_view_module_version": "1.5.0",
      "_view_name": "ProgressView",
      "bar_style": "success",
      "description": "",
      "description_tooltip": null,
      "layout": "IPY_MODEL_fc999e90317b45258952bfd2dce28612",
      "max": 3003,
      "min": 0,
      "orientation": "horizontal",
      "style": "IPY_MODEL_25d7b5c7152b40cfa1658258e37bdc10",
      "value": 3003
     }
    },
    "12453d00f70f4f36be68aa6a82f5979f": {
     "model_module": "@jupyter-widgets/controls",
     "model_module_version": "1.5.0",
     "model_name": "HTMLModel",
     "state": {
      "_dom_classes": [],
      "_model_module": "@jupyter-widgets/controls",
      "_model_module_version": "1.5.0",
      "_model_name": "HTMLModel",
      "_view_count": null,
      "_view_module": "@jupyter-widgets/controls",
      "_view_module_version": "1.5.0",
      "_view_name": "HTMLView",
      "description": "",
      "description_tooltip": null,
      "layout": "IPY_MODEL_237399cccd2f4f51ad322b1a5e897e83",
      "placeholder": "​",
      "style": "IPY_MODEL_628397e3026f4aff836054b47a9c2250",
      "value": "100%"
     }
    },
    "1a58df6f650045b1b7f801f445667bb3": {
     "model_module": "@jupyter-widgets/controls",
     "model_module_version": "1.5.0",
     "model_name": "HBoxModel",
     "state": {
      "_dom_classes": [],
      "_model_module": "@jupyter-widgets/controls",
      "_model_module_version": "1.5.0",
      "_model_name": "HBoxModel",
      "_view_count": null,
      "_view_module": "@jupyter-widgets/controls",
      "_view_module_version": "1.5.0",
      "_view_name": "HBoxView",
      "box_style": "",
      "children": [
       "IPY_MODEL_ece7c11c104642e68410a8c64f524897",
       "IPY_MODEL_d5eed8d61c774a69af0761498287352f",
       "IPY_MODEL_bd47e51c7a634cc280f4afed1d0fe972"
      ],
      "layout": "IPY_MODEL_633d9bff7d3e48309b0372fc59f4f004"
     }
    },
    "1af6714f679040d89f5ca068779e058c": {
     "model_module": "@jupyter-widgets/controls",
     "model_module_version": "1.5.0",
     "model_name": "DescriptionStyleModel",
     "state": {
      "_model_module": "@jupyter-widgets/controls",
      "_model_module_version": "1.5.0",
      "_model_name": "DescriptionStyleModel",
      "_view_count": null,
      "_view_module": "@jupyter-widgets/base",
      "_view_module_version": "1.2.0",
      "_view_name": "StyleView",
      "description_width": ""
     }
    },
    "1c6e0d4112d547ecba9312569520be89": {
     "model_module": "@jupyter-widgets/base",
     "model_module_version": "1.2.0",
     "model_name": "LayoutModel",
     "state": {
      "_model_module": "@jupyter-widgets/base",
      "_model_module_version": "1.2.0",
      "_model_name": "LayoutModel",
      "_view_count": null,
      "_view_module": "@jupyter-widgets/base",
      "_view_module_version": "1.2.0",
      "_view_name": "LayoutView",
      "align_content": null,
      "align_items": null,
      "align_self": null,
      "border": null,
      "bottom": null,
      "display": null,
      "flex": null,
      "flex_flow": null,
      "grid_area": null,
      "grid_auto_columns": null,
      "grid_auto_flow": null,
      "grid_auto_rows": null,
      "grid_column": null,
      "grid_gap": null,
      "grid_row": null,
      "grid_template_areas": null,
      "grid_template_columns": null,
      "grid_template_rows": null,
      "height": null,
      "justify_content": null,
      "justify_items": null,
      "left": null,
      "margin": null,
      "max_height": null,
      "max_width": null,
      "min_height": null,
      "min_width": null,
      "object_fit": null,
      "object_position": null,
      "order": null,
      "overflow": null,
      "overflow_x": null,
      "overflow_y": null,
      "padding": null,
      "right": null,
      "top": null,
      "visibility": null,
      "width": null
     }
    },
    "237399cccd2f4f51ad322b1a5e897e83": {
     "model_module": "@jupyter-widgets/base",
     "model_module_version": "1.2.0",
     "model_name": "LayoutModel",
     "state": {
      "_model_module": "@jupyter-widgets/base",
      "_model_module_version": "1.2.0",
      "_model_name": "LayoutModel",
      "_view_count": null,
      "_view_module": "@jupyter-widgets/base",
      "_view_module_version": "1.2.0",
      "_view_name": "LayoutView",
      "align_content": null,
      "align_items": null,
      "align_self": null,
      "border": null,
      "bottom": null,
      "display": null,
      "flex": null,
      "flex_flow": null,
      "grid_area": null,
      "grid_auto_columns": null,
      "grid_auto_flow": null,
      "grid_auto_rows": null,
      "grid_column": null,
      "grid_gap": null,
      "grid_row": null,
      "grid_template_areas": null,
      "grid_template_columns": null,
      "grid_template_rows": null,
      "height": null,
      "justify_content": null,
      "justify_items": null,
      "left": null,
      "margin": null,
      "max_height": null,
      "max_width": null,
      "min_height": null,
      "min_width": null,
      "object_fit": null,
      "object_position": null,
      "order": null,
      "overflow": null,
      "overflow_x": null,
      "overflow_y": null,
      "padding": null,
      "right": null,
      "top": null,
      "visibility": null,
      "width": null
     }
    },
    "25d7b5c7152b40cfa1658258e37bdc10": {
     "model_module": "@jupyter-widgets/controls",
     "model_module_version": "1.5.0",
     "model_name": "ProgressStyleModel",
     "state": {
      "_model_module": "@jupyter-widgets/controls",
      "_model_module_version": "1.5.0",
      "_model_name": "ProgressStyleModel",
      "_view_count": null,
      "_view_module": "@jupyter-widgets/base",
      "_view_module_version": "1.2.0",
      "_view_name": "StyleView",
      "bar_color": null,
      "description_width": ""
     }
    },
    "27d9f59dff454364a43cedcfa79faf1c": {
     "model_module": "@jupyter-widgets/controls",
     "model_module_version": "1.5.0",
     "model_name": "HTMLModel",
     "state": {
      "_dom_classes": [],
      "_model_module": "@jupyter-widgets/controls",
      "_model_module_version": "1.5.0",
      "_model_name": "HTMLModel",
      "_view_count": null,
      "_view_module": "@jupyter-widgets/controls",
      "_view_module_version": "1.5.0",
      "_view_name": "HTMLView",
      "description": "",
      "description_tooltip": null,
      "layout": "IPY_MODEL_d6ea1b9a4ec749248c6fa439d8e9dcce",
      "placeholder": "​",
      "style": "IPY_MODEL_b6727d4410514eccabe3dbba33699892",
      "value": "100%"
     }
    },
    "3203bc1fdfee4744ae8579049f1d93c3": {
     "model_module": "@jupyter-widgets/base",
     "model_module_version": "1.2.0",
     "model_name": "LayoutModel",
     "state": {
      "_model_module": "@jupyter-widgets/base",
      "_model_module_version": "1.2.0",
      "_model_name": "LayoutModel",
      "_view_count": null,
      "_view_module": "@jupyter-widgets/base",
      "_view_module_version": "1.2.0",
      "_view_name": "LayoutView",
      "align_content": null,
      "align_items": null,
      "align_self": null,
      "border": null,
      "bottom": null,
      "display": null,
      "flex": null,
      "flex_flow": null,
      "grid_area": null,
      "grid_auto_columns": null,
      "grid_auto_flow": null,
      "grid_auto_rows": null,
      "grid_column": null,
      "grid_gap": null,
      "grid_row": null,
      "grid_template_areas": null,
      "grid_template_columns": null,
      "grid_template_rows": null,
      "height": null,
      "justify_content": null,
      "justify_items": null,
      "left": null,
      "margin": null,
      "max_height": null,
      "max_width": null,
      "min_height": null,
      "min_width": null,
      "object_fit": null,
      "object_position": null,
      "order": null,
      "overflow": null,
      "overflow_x": null,
      "overflow_y": null,
      "padding": null,
      "right": null,
      "top": null,
      "visibility": null,
      "width": null
     }
    },
    "3720f694077d401599cd2a7e9a955d3e": {
     "model_module": "@jupyter-widgets/base",
     "model_module_version": "1.2.0",
     "model_name": "LayoutModel",
     "state": {
      "_model_module": "@jupyter-widgets/base",
      "_model_module_version": "1.2.0",
      "_model_name": "LayoutModel",
      "_view_count": null,
      "_view_module": "@jupyter-widgets/base",
      "_view_module_version": "1.2.0",
      "_view_name": "LayoutView",
      "align_content": null,
      "align_items": null,
      "align_self": null,
      "border": null,
      "bottom": null,
      "display": null,
      "flex": null,
      "flex_flow": null,
      "grid_area": null,
      "grid_auto_columns": null,
      "grid_auto_flow": null,
      "grid_auto_rows": null,
      "grid_column": null,
      "grid_gap": null,
      "grid_row": null,
      "grid_template_areas": null,
      "grid_template_columns": null,
      "grid_template_rows": null,
      "height": null,
      "justify_content": null,
      "justify_items": null,
      "left": null,
      "margin": null,
      "max_height": null,
      "max_width": null,
      "min_height": null,
      "min_width": null,
      "object_fit": null,
      "object_position": null,
      "order": null,
      "overflow": null,
      "overflow_x": null,
      "overflow_y": null,
      "padding": null,
      "right": null,
      "top": null,
      "visibility": null,
      "width": null
     }
    },
    "3a2ce5780e2240b4bb078e00f9fd7b99": {
     "model_module": "@jupyter-widgets/base",
     "model_module_version": "1.2.0",
     "model_name": "LayoutModel",
     "state": {
      "_model_module": "@jupyter-widgets/base",
      "_model_module_version": "1.2.0",
      "_model_name": "LayoutModel",
      "_view_count": null,
      "_view_module": "@jupyter-widgets/base",
      "_view_module_version": "1.2.0",
      "_view_name": "LayoutView",
      "align_content": null,
      "align_items": null,
      "align_self": null,
      "border": null,
      "bottom": null,
      "display": null,
      "flex": null,
      "flex_flow": null,
      "grid_area": null,
      "grid_auto_columns": null,
      "grid_auto_flow": null,
      "grid_auto_rows": null,
      "grid_column": null,
      "grid_gap": null,
      "grid_row": null,
      "grid_template_areas": null,
      "grid_template_columns": null,
      "grid_template_rows": null,
      "height": null,
      "justify_content": null,
      "justify_items": null,
      "left": null,
      "margin": null,
      "max_height": null,
      "max_width": null,
      "min_height": null,
      "min_width": null,
      "object_fit": null,
      "object_position": null,
      "order": null,
      "overflow": null,
      "overflow_x": null,
      "overflow_y": null,
      "padding": null,
      "right": null,
      "top": null,
      "visibility": null,
      "width": null
     }
    },
    "3c4c6d301c37438793b17063c8ced1bb": {
     "model_module": "@jupyter-widgets/controls",
     "model_module_version": "1.5.0",
     "model_name": "ProgressStyleModel",
     "state": {
      "_model_module": "@jupyter-widgets/controls",
      "_model_module_version": "1.5.0",
      "_model_name": "ProgressStyleModel",
      "_view_count": null,
      "_view_module": "@jupyter-widgets/base",
      "_view_module_version": "1.2.0",
      "_view_name": "StyleView",
      "bar_color": null,
      "description_width": ""
     }
    },
    "3caea78cc43a42c79020b702df4722d5": {
     "model_module": "@jupyter-widgets/controls",
     "model_module_version": "1.5.0",
     "model_name": "DescriptionStyleModel",
     "state": {
      "_model_module": "@jupyter-widgets/controls",
      "_model_module_version": "1.5.0",
      "_model_name": "DescriptionStyleModel",
      "_view_count": null,
      "_view_module": "@jupyter-widgets/base",
      "_view_module_version": "1.2.0",
      "_view_name": "StyleView",
      "description_width": ""
     }
    },
    "3cd6bdd45cd94c38be86e9d74fd8957c": {
     "model_module": "@jupyter-widgets/controls",
     "model_module_version": "1.5.0",
     "model_name": "FloatProgressModel",
     "state": {
      "_dom_classes": [],
      "_model_module": "@jupyter-widgets/controls",
      "_model_module_version": "1.5.0",
      "_model_name": "FloatProgressModel",
      "_view_count": null,
      "_view_module": "@jupyter-widgets/controls",
      "_view_module_version": "1.5.0",
      "_view_name": "ProgressView",
      "bar_style": "success",
      "description": "",
      "description_tooltip": null,
      "layout": "IPY_MODEL_3203bc1fdfee4744ae8579049f1d93c3",
      "max": 3000,
      "min": 0,
      "orientation": "horizontal",
      "style": "IPY_MODEL_4ebb096467ce4917929fc1ea6256771a",
      "value": 3000
     }
    },
    "3d37f4e0e6ed4f68b1b528b629b68e7a": {
     "model_module": "@jupyter-widgets/controls",
     "model_module_version": "1.5.0",
     "model_name": "DescriptionStyleModel",
     "state": {
      "_model_module": "@jupyter-widgets/controls",
      "_model_module_version": "1.5.0",
      "_model_name": "DescriptionStyleModel",
      "_view_count": null,
      "_view_module": "@jupyter-widgets/base",
      "_view_module_version": "1.2.0",
      "_view_name": "StyleView",
      "description_width": ""
     }
    },
    "4376e1da99ec4d5c83c6d91be9ccaf6c": {
     "model_module": "@jupyter-widgets/controls",
     "model_module_version": "1.5.0",
     "model_name": "ProgressStyleModel",
     "state": {
      "_model_module": "@jupyter-widgets/controls",
      "_model_module_version": "1.5.0",
      "_model_name": "ProgressStyleModel",
      "_view_count": null,
      "_view_module": "@jupyter-widgets/base",
      "_view_module_version": "1.2.0",
      "_view_name": "StyleView",
      "bar_color": null,
      "description_width": ""
     }
    },
    "45d80db8f9a84da8a93cf97838ad4d3f": {
     "model_module": "@jupyter-widgets/base",
     "model_module_version": "1.2.0",
     "model_name": "LayoutModel",
     "state": {
      "_model_module": "@jupyter-widgets/base",
      "_model_module_version": "1.2.0",
      "_model_name": "LayoutModel",
      "_view_count": null,
      "_view_module": "@jupyter-widgets/base",
      "_view_module_version": "1.2.0",
      "_view_name": "LayoutView",
      "align_content": null,
      "align_items": null,
      "align_self": null,
      "border": null,
      "bottom": null,
      "display": null,
      "flex": null,
      "flex_flow": null,
      "grid_area": null,
      "grid_auto_columns": null,
      "grid_auto_flow": null,
      "grid_auto_rows": null,
      "grid_column": null,
      "grid_gap": null,
      "grid_row": null,
      "grid_template_areas": null,
      "grid_template_columns": null,
      "grid_template_rows": null,
      "height": null,
      "justify_content": null,
      "justify_items": null,
      "left": null,
      "margin": null,
      "max_height": null,
      "max_width": null,
      "min_height": null,
      "min_width": null,
      "object_fit": null,
      "object_position": null,
      "order": null,
      "overflow": null,
      "overflow_x": null,
      "overflow_y": null,
      "padding": null,
      "right": null,
      "top": null,
      "visibility": null,
      "width": null
     }
    },
    "4e2bacc33dea4f05bd58806520c39d74": {
     "model_module": "@jupyter-widgets/controls",
     "model_module_version": "1.5.0",
     "model_name": "HBoxModel",
     "state": {
      "_dom_classes": [],
      "_model_module": "@jupyter-widgets/controls",
      "_model_module_version": "1.5.0",
      "_model_name": "HBoxModel",
      "_view_count": null,
      "_view_module": "@jupyter-widgets/controls",
      "_view_module_version": "1.5.0",
      "_view_name": "HBoxView",
      "box_style": "",
      "children": [
       "IPY_MODEL_65dacde446524a6bb8f35e44e119f892",
       "IPY_MODEL_91f7148aa9624081ab06c41f2b6b778b",
       "IPY_MODEL_a1647bd898154355af84e4cd40b640e2"
      ],
      "layout": "IPY_MODEL_6db767e5c9394364a41c6085d8b69aa0"
     }
    },
    "4ebb096467ce4917929fc1ea6256771a": {
     "model_module": "@jupyter-widgets/controls",
     "model_module_version": "1.5.0",
     "model_name": "ProgressStyleModel",
     "state": {
      "_model_module": "@jupyter-widgets/controls",
      "_model_module_version": "1.5.0",
      "_model_name": "ProgressStyleModel",
      "_view_count": null,
      "_view_module": "@jupyter-widgets/base",
      "_view_module_version": "1.2.0",
      "_view_name": "StyleView",
      "bar_color": null,
      "description_width": ""
     }
    },
    "4efc1becfdaf481a9045eea2d0e5d95d": {
     "model_module": "@jupyter-widgets/base",
     "model_module_version": "1.2.0",
     "model_name": "LayoutModel",
     "state": {
      "_model_module": "@jupyter-widgets/base",
      "_model_module_version": "1.2.0",
      "_model_name": "LayoutModel",
      "_view_count": null,
      "_view_module": "@jupyter-widgets/base",
      "_view_module_version": "1.2.0",
      "_view_name": "LayoutView",
      "align_content": null,
      "align_items": null,
      "align_self": null,
      "border": null,
      "bottom": null,
      "display": null,
      "flex": null,
      "flex_flow": null,
      "grid_area": null,
      "grid_auto_columns": null,
      "grid_auto_flow": null,
      "grid_auto_rows": null,
      "grid_column": null,
      "grid_gap": null,
      "grid_row": null,
      "grid_template_areas": null,
      "grid_template_columns": null,
      "grid_template_rows": null,
      "height": null,
      "justify_content": null,
      "justify_items": null,
      "left": null,
      "margin": null,
      "max_height": null,
      "max_width": null,
      "min_height": null,
      "min_width": null,
      "object_fit": null,
      "object_position": null,
      "order": null,
      "overflow": null,
      "overflow_x": null,
      "overflow_y": null,
      "padding": null,
      "right": null,
      "top": null,
      "visibility": null,
      "width": null
     }
    },
    "5022c96c2f84468f8e71c107c9930544": {
     "model_module": "@jupyter-widgets/controls",
     "model_module_version": "1.5.0",
     "model_name": "DescriptionStyleModel",
     "state": {
      "_model_module": "@jupyter-widgets/controls",
      "_model_module_version": "1.5.0",
      "_model_name": "DescriptionStyleModel",
      "_view_count": null,
      "_view_module": "@jupyter-widgets/base",
      "_view_module_version": "1.2.0",
      "_view_name": "StyleView",
      "description_width": ""
     }
    },
    "51ec9e01f835437aa8fc7e22595ed03e": {
     "model_module": "@jupyter-widgets/controls",
     "model_module_version": "1.5.0",
     "model_name": "DescriptionStyleModel",
     "state": {
      "_model_module": "@jupyter-widgets/controls",
      "_model_module_version": "1.5.0",
      "_model_name": "DescriptionStyleModel",
      "_view_count": null,
      "_view_module": "@jupyter-widgets/base",
      "_view_module_version": "1.2.0",
      "_view_name": "StyleView",
      "description_width": ""
     }
    },
    "55313d5cf7cd4ef9a5cf9176cbc019f2": {
     "model_module": "@jupyter-widgets/controls",
     "model_module_version": "1.5.0",
     "model_name": "DescriptionStyleModel",
     "state": {
      "_model_module": "@jupyter-widgets/controls",
      "_model_module_version": "1.5.0",
      "_model_name": "DescriptionStyleModel",
      "_view_count": null,
      "_view_module": "@jupyter-widgets/base",
      "_view_module_version": "1.2.0",
      "_view_name": "StyleView",
      "description_width": ""
     }
    },
    "56891c639e574239b7108318348ea026": {
     "model_module": "@jupyter-widgets/base",
     "model_module_version": "1.2.0",
     "model_name": "LayoutModel",
     "state": {
      "_model_module": "@jupyter-widgets/base",
      "_model_module_version": "1.2.0",
      "_model_name": "LayoutModel",
      "_view_count": null,
      "_view_module": "@jupyter-widgets/base",
      "_view_module_version": "1.2.0",
      "_view_name": "LayoutView",
      "align_content": null,
      "align_items": null,
      "align_self": null,
      "border": null,
      "bottom": null,
      "display": null,
      "flex": null,
      "flex_flow": null,
      "grid_area": null,
      "grid_auto_columns": null,
      "grid_auto_flow": null,
      "grid_auto_rows": null,
      "grid_column": null,
      "grid_gap": null,
      "grid_row": null,
      "grid_template_areas": null,
      "grid_template_columns": null,
      "grid_template_rows": null,
      "height": null,
      "justify_content": null,
      "justify_items": null,
      "left": null,
      "margin": null,
      "max_height": null,
      "max_width": null,
      "min_height": null,
      "min_width": null,
      "object_fit": null,
      "object_position": null,
      "order": null,
      "overflow": null,
      "overflow_x": null,
      "overflow_y": null,
      "padding": null,
      "right": null,
      "top": null,
      "visibility": null,
      "width": null
     }
    },
    "56e9929df2ca4166871ff6cd7f73abd8": {
     "model_module": "@jupyter-widgets/base",
     "model_module_version": "1.2.0",
     "model_name": "LayoutModel",
     "state": {
      "_model_module": "@jupyter-widgets/base",
      "_model_module_version": "1.2.0",
      "_model_name": "LayoutModel",
      "_view_count": null,
      "_view_module": "@jupyter-widgets/base",
      "_view_module_version": "1.2.0",
      "_view_name": "LayoutView",
      "align_content": null,
      "align_items": null,
      "align_self": null,
      "border": null,
      "bottom": null,
      "display": null,
      "flex": null,
      "flex_flow": null,
      "grid_area": null,
      "grid_auto_columns": null,
      "grid_auto_flow": null,
      "grid_auto_rows": null,
      "grid_column": null,
      "grid_gap": null,
      "grid_row": null,
      "grid_template_areas": null,
      "grid_template_columns": null,
      "grid_template_rows": null,
      "height": null,
      "justify_content": null,
      "justify_items": null,
      "left": null,
      "margin": null,
      "max_height": null,
      "max_width": null,
      "min_height": null,
      "min_width": null,
      "object_fit": null,
      "object_position": null,
      "order": null,
      "overflow": null,
      "overflow_x": null,
      "overflow_y": null,
      "padding": null,
      "right": null,
      "top": null,
      "visibility": null,
      "width": null
     }
    },
    "5d7482d58500487ea1829160a747cf30": {
     "model_module": "@jupyter-widgets/base",
     "model_module_version": "1.2.0",
     "model_name": "LayoutModel",
     "state": {
      "_model_module": "@jupyter-widgets/base",
      "_model_module_version": "1.2.0",
      "_model_name": "LayoutModel",
      "_view_count": null,
      "_view_module": "@jupyter-widgets/base",
      "_view_module_version": "1.2.0",
      "_view_name": "LayoutView",
      "align_content": null,
      "align_items": null,
      "align_self": null,
      "border": null,
      "bottom": null,
      "display": null,
      "flex": null,
      "flex_flow": null,
      "grid_area": null,
      "grid_auto_columns": null,
      "grid_auto_flow": null,
      "grid_auto_rows": null,
      "grid_column": null,
      "grid_gap": null,
      "grid_row": null,
      "grid_template_areas": null,
      "grid_template_columns": null,
      "grid_template_rows": null,
      "height": null,
      "justify_content": null,
      "justify_items": null,
      "left": null,
      "margin": null,
      "max_height": null,
      "max_width": null,
      "min_height": null,
      "min_width": null,
      "object_fit": null,
      "object_position": null,
      "order": null,
      "overflow": null,
      "overflow_x": null,
      "overflow_y": null,
      "padding": null,
      "right": null,
      "top": null,
      "visibility": null,
      "width": null
     }
    },
    "628397e3026f4aff836054b47a9c2250": {
     "model_module": "@jupyter-widgets/controls",
     "model_module_version": "1.5.0",
     "model_name": "DescriptionStyleModel",
     "state": {
      "_model_module": "@jupyter-widgets/controls",
      "_model_module_version": "1.5.0",
      "_model_name": "DescriptionStyleModel",
      "_view_count": null,
      "_view_module": "@jupyter-widgets/base",
      "_view_module_version": "1.2.0",
      "_view_name": "StyleView",
      "description_width": ""
     }
    },
    "633d9bff7d3e48309b0372fc59f4f004": {
     "model_module": "@jupyter-widgets/base",
     "model_module_version": "1.2.0",
     "model_name": "LayoutModel",
     "state": {
      "_model_module": "@jupyter-widgets/base",
      "_model_module_version": "1.2.0",
      "_model_name": "LayoutModel",
      "_view_count": null,
      "_view_module": "@jupyter-widgets/base",
      "_view_module_version": "1.2.0",
      "_view_name": "LayoutView",
      "align_content": null,
      "align_items": null,
      "align_self": null,
      "border": null,
      "bottom": null,
      "display": null,
      "flex": null,
      "flex_flow": null,
      "grid_area": null,
      "grid_auto_columns": null,
      "grid_auto_flow": null,
      "grid_auto_rows": null,
      "grid_column": null,
      "grid_gap": null,
      "grid_row": null,
      "grid_template_areas": null,
      "grid_template_columns": null,
      "grid_template_rows": null,
      "height": null,
      "justify_content": null,
      "justify_items": null,
      "left": null,
      "margin": null,
      "max_height": null,
      "max_width": null,
      "min_height": null,
      "min_width": null,
      "object_fit": null,
      "object_position": null,
      "order": null,
      "overflow": null,
      "overflow_x": null,
      "overflow_y": null,
      "padding": null,
      "right": null,
      "top": null,
      "visibility": null,
      "width": null
     }
    },
    "65dacde446524a6bb8f35e44e119f892": {
     "model_module": "@jupyter-widgets/controls",
     "model_module_version": "1.5.0",
     "model_name": "HTMLModel",
     "state": {
      "_dom_classes": [],
      "_model_module": "@jupyter-widgets/controls",
      "_model_module_version": "1.5.0",
      "_model_name": "HTMLModel",
      "_view_count": null,
      "_view_module": "@jupyter-widgets/controls",
      "_view_module_version": "1.5.0",
      "_view_name": "HTMLView",
      "description": "",
      "description_tooltip": null,
      "layout": "IPY_MODEL_3720f694077d401599cd2a7e9a955d3e",
      "placeholder": "​",
      "style": "IPY_MODEL_1af6714f679040d89f5ca068779e058c",
      "value": "100%"
     }
    },
    "6db767e5c9394364a41c6085d8b69aa0": {
     "model_module": "@jupyter-widgets/base",
     "model_module_version": "1.2.0",
     "model_name": "LayoutModel",
     "state": {
      "_model_module": "@jupyter-widgets/base",
      "_model_module_version": "1.2.0",
      "_model_name": "LayoutModel",
      "_view_count": null,
      "_view_module": "@jupyter-widgets/base",
      "_view_module_version": "1.2.0",
      "_view_name": "LayoutView",
      "align_content": null,
      "align_items": null,
      "align_self": null,
      "border": null,
      "bottom": null,
      "display": null,
      "flex": null,
      "flex_flow": null,
      "grid_area": null,
      "grid_auto_columns": null,
      "grid_auto_flow": null,
      "grid_auto_rows": null,
      "grid_column": null,
      "grid_gap": null,
      "grid_row": null,
      "grid_template_areas": null,
      "grid_template_columns": null,
      "grid_template_rows": null,
      "height": null,
      "justify_content": null,
      "justify_items": null,
      "left": null,
      "margin": null,
      "max_height": null,
      "max_width": null,
      "min_height": null,
      "min_width": null,
      "object_fit": null,
      "object_position": null,
      "order": null,
      "overflow": null,
      "overflow_x": null,
      "overflow_y": null,
      "padding": null,
      "right": null,
      "top": null,
      "visibility": null,
      "width": null
     }
    },
    "6dd7aa45d175417e92155cbd962dab3e": {
     "model_module": "@jupyter-widgets/controls",
     "model_module_version": "1.5.0",
     "model_name": "DescriptionStyleModel",
     "state": {
      "_model_module": "@jupyter-widgets/controls",
      "_model_module_version": "1.5.0",
      "_model_name": "DescriptionStyleModel",
      "_view_count": null,
      "_view_module": "@jupyter-widgets/base",
      "_view_module_version": "1.2.0",
      "_view_name": "StyleView",
      "description_width": ""
     }
    },
    "6f62770c57ef4eacb3002a620ee9d5d4": {
     "model_module": "@jupyter-widgets/base",
     "model_module_version": "1.2.0",
     "model_name": "LayoutModel",
     "state": {
      "_model_module": "@jupyter-widgets/base",
      "_model_module_version": "1.2.0",
      "_model_name": "LayoutModel",
      "_view_count": null,
      "_view_module": "@jupyter-widgets/base",
      "_view_module_version": "1.2.0",
      "_view_name": "LayoutView",
      "align_content": null,
      "align_items": null,
      "align_self": null,
      "border": null,
      "bottom": null,
      "display": null,
      "flex": null,
      "flex_flow": null,
      "grid_area": null,
      "grid_auto_columns": null,
      "grid_auto_flow": null,
      "grid_auto_rows": null,
      "grid_column": null,
      "grid_gap": null,
      "grid_row": null,
      "grid_template_areas": null,
      "grid_template_columns": null,
      "grid_template_rows": null,
      "height": null,
      "justify_content": null,
      "justify_items": null,
      "left": null,
      "margin": null,
      "max_height": null,
      "max_width": null,
      "min_height": null,
      "min_width": null,
      "object_fit": null,
      "object_position": null,
      "order": null,
      "overflow": null,
      "overflow_x": null,
      "overflow_y": null,
      "padding": null,
      "right": null,
      "top": null,
      "visibility": null,
      "width": null
     }
    },
    "79eb3cea64c342e5b43688c18a794113": {
     "model_module": "@jupyter-widgets/base",
     "model_module_version": "1.2.0",
     "model_name": "LayoutModel",
     "state": {
      "_model_module": "@jupyter-widgets/base",
      "_model_module_version": "1.2.0",
      "_model_name": "LayoutModel",
      "_view_count": null,
      "_view_module": "@jupyter-widgets/base",
      "_view_module_version": "1.2.0",
      "_view_name": "LayoutView",
      "align_content": null,
      "align_items": null,
      "align_self": null,
      "border": null,
      "bottom": null,
      "display": null,
      "flex": null,
      "flex_flow": null,
      "grid_area": null,
      "grid_auto_columns": null,
      "grid_auto_flow": null,
      "grid_auto_rows": null,
      "grid_column": null,
      "grid_gap": null,
      "grid_row": null,
      "grid_template_areas": null,
      "grid_template_columns": null,
      "grid_template_rows": null,
      "height": null,
      "justify_content": null,
      "justify_items": null,
      "left": null,
      "margin": null,
      "max_height": null,
      "max_width": null,
      "min_height": null,
      "min_width": null,
      "object_fit": null,
      "object_position": null,
      "order": null,
      "overflow": null,
      "overflow_x": null,
      "overflow_y": null,
      "padding": null,
      "right": null,
      "top": null,
      "visibility": null,
      "width": null
     }
    },
    "7abfc9cd2a2d4da7bd877db76b18ce96": {
     "model_module": "@jupyter-widgets/controls",
     "model_module_version": "1.5.0",
     "model_name": "ProgressStyleModel",
     "state": {
      "_model_module": "@jupyter-widgets/controls",
      "_model_module_version": "1.5.0",
      "_model_name": "ProgressStyleModel",
      "_view_count": null,
      "_view_module": "@jupyter-widgets/base",
      "_view_module_version": "1.2.0",
      "_view_name": "StyleView",
      "bar_color": null,
      "description_width": ""
     }
    },
    "7e58161685c04c1f81d2c815704e9dda": {
     "model_module": "@jupyter-widgets/controls",
     "model_module_version": "1.5.0",
     "model_name": "DescriptionStyleModel",
     "state": {
      "_model_module": "@jupyter-widgets/controls",
      "_model_module_version": "1.5.0",
      "_model_name": "DescriptionStyleModel",
      "_view_count": null,
      "_view_module": "@jupyter-widgets/base",
      "_view_module_version": "1.2.0",
      "_view_name": "StyleView",
      "description_width": ""
     }
    },
    "8c3292d2954046c2a1bea7576b0b3e0e": {
     "model_module": "@jupyter-widgets/base",
     "model_module_version": "1.2.0",
     "model_name": "LayoutModel",
     "state": {
      "_model_module": "@jupyter-widgets/base",
      "_model_module_version": "1.2.0",
      "_model_name": "LayoutModel",
      "_view_count": null,
      "_view_module": "@jupyter-widgets/base",
      "_view_module_version": "1.2.0",
      "_view_name": "LayoutView",
      "align_content": null,
      "align_items": null,
      "align_self": null,
      "border": null,
      "bottom": null,
      "display": null,
      "flex": null,
      "flex_flow": null,
      "grid_area": null,
      "grid_auto_columns": null,
      "grid_auto_flow": null,
      "grid_auto_rows": null,
      "grid_column": null,
      "grid_gap": null,
      "grid_row": null,
      "grid_template_areas": null,
      "grid_template_columns": null,
      "grid_template_rows": null,
      "height": null,
      "justify_content": null,
      "justify_items": null,
      "left": null,
      "margin": null,
      "max_height": null,
      "max_width": null,
      "min_height": null,
      "min_width": null,
      "object_fit": null,
      "object_position": null,
      "order": null,
      "overflow": null,
      "overflow_x": null,
      "overflow_y": null,
      "padding": null,
      "right": null,
      "top": null,
      "visibility": null,
      "width": null
     }
    },
    "8fd3e77ded3640649bc2927272d182fe": {
     "model_module": "@jupyter-widgets/controls",
     "model_module_version": "1.5.0",
     "model_name": "HTMLModel",
     "state": {
      "_dom_classes": [],
      "_model_module": "@jupyter-widgets/controls",
      "_model_module_version": "1.5.0",
      "_model_name": "HTMLModel",
      "_view_count": null,
      "_view_module": "@jupyter-widgets/controls",
      "_view_module_version": "1.5.0",
      "_view_name": "HTMLView",
      "description": "",
      "description_tooltip": null,
      "layout": "IPY_MODEL_e6e400fb5e514e09b2c7093b9de14bee",
      "placeholder": "​",
      "style": "IPY_MODEL_55313d5cf7cd4ef9a5cf9176cbc019f2",
      "value": "100%"
     }
    },
    "900a13ace85e4d47a5c3ef41a0348983": {
     "model_module": "@jupyter-widgets/base",
     "model_module_version": "1.2.0",
     "model_name": "LayoutModel",
     "state": {
      "_model_module": "@jupyter-widgets/base",
      "_model_module_version": "1.2.0",
      "_model_name": "LayoutModel",
      "_view_count": null,
      "_view_module": "@jupyter-widgets/base",
      "_view_module_version": "1.2.0",
      "_view_name": "LayoutView",
      "align_content": null,
      "align_items": null,
      "align_self": null,
      "border": null,
      "bottom": null,
      "display": null,
      "flex": null,
      "flex_flow": null,
      "grid_area": null,
      "grid_auto_columns": null,
      "grid_auto_flow": null,
      "grid_auto_rows": null,
      "grid_column": null,
      "grid_gap": null,
      "grid_row": null,
      "grid_template_areas": null,
      "grid_template_columns": null,
      "grid_template_rows": null,
      "height": null,
      "justify_content": null,
      "justify_items": null,
      "left": null,
      "margin": null,
      "max_height": null,
      "max_width": null,
      "min_height": null,
      "min_width": null,
      "object_fit": null,
      "object_position": null,
      "order": null,
      "overflow": null,
      "overflow_x": null,
      "overflow_y": null,
      "padding": null,
      "right": null,
      "top": null,
      "visibility": null,
      "width": null
     }
    },
    "903724591b5340c69b8e8e3305a6f383": {
     "model_module": "@jupyter-widgets/base",
     "model_module_version": "1.2.0",
     "model_name": "LayoutModel",
     "state": {
      "_model_module": "@jupyter-widgets/base",
      "_model_module_version": "1.2.0",
      "_model_name": "LayoutModel",
      "_view_count": null,
      "_view_module": "@jupyter-widgets/base",
      "_view_module_version": "1.2.0",
      "_view_name": "LayoutView",
      "align_content": null,
      "align_items": null,
      "align_self": null,
      "border": null,
      "bottom": null,
      "display": null,
      "flex": null,
      "flex_flow": null,
      "grid_area": null,
      "grid_auto_columns": null,
      "grid_auto_flow": null,
      "grid_auto_rows": null,
      "grid_column": null,
      "grid_gap": null,
      "grid_row": null,
      "grid_template_areas": null,
      "grid_template_columns": null,
      "grid_template_rows": null,
      "height": null,
      "justify_content": null,
      "justify_items": null,
      "left": null,
      "margin": null,
      "max_height": null,
      "max_width": null,
      "min_height": null,
      "min_width": null,
      "object_fit": null,
      "object_position": null,
      "order": null,
      "overflow": null,
      "overflow_x": null,
      "overflow_y": null,
      "padding": null,
      "right": null,
      "top": null,
      "visibility": null,
      "width": null
     }
    },
    "91f7148aa9624081ab06c41f2b6b778b": {
     "model_module": "@jupyter-widgets/controls",
     "model_module_version": "1.5.0",
     "model_name": "FloatProgressModel",
     "state": {
      "_dom_classes": [],
      "_model_module": "@jupyter-widgets/controls",
      "_model_module_version": "1.5.0",
      "_model_name": "FloatProgressModel",
      "_view_count": null,
      "_view_module": "@jupyter-widgets/controls",
      "_view_module_version": "1.5.0",
      "_view_name": "ProgressView",
      "bar_style": "success",
      "description": "",
      "description_tooltip": null,
      "layout": "IPY_MODEL_99b76b9ac10145f7ab1b43a29dff564a",
      "max": 200000,
      "min": 0,
      "orientation": "horizontal",
      "style": "IPY_MODEL_7abfc9cd2a2d4da7bd877db76b18ce96",
      "value": 200000
     }
    },
    "99b76b9ac10145f7ab1b43a29dff564a": {
     "model_module": "@jupyter-widgets/base",
     "model_module_version": "1.2.0",
     "model_name": "LayoutModel",
     "state": {
      "_model_module": "@jupyter-widgets/base",
      "_model_module_version": "1.2.0",
      "_model_name": "LayoutModel",
      "_view_count": null,
      "_view_module": "@jupyter-widgets/base",
      "_view_module_version": "1.2.0",
      "_view_name": "LayoutView",
      "align_content": null,
      "align_items": null,
      "align_self": null,
      "border": null,
      "bottom": null,
      "display": null,
      "flex": null,
      "flex_flow": null,
      "grid_area": null,
      "grid_auto_columns": null,
      "grid_auto_flow": null,
      "grid_auto_rows": null,
      "grid_column": null,
      "grid_gap": null,
      "grid_row": null,
      "grid_template_areas": null,
      "grid_template_columns": null,
      "grid_template_rows": null,
      "height": null,
      "justify_content": null,
      "justify_items": null,
      "left": null,
      "margin": null,
      "max_height": null,
      "max_width": null,
      "min_height": null,
      "min_width": null,
      "object_fit": null,
      "object_position": null,
      "order": null,
      "overflow": null,
      "overflow_x": null,
      "overflow_y": null,
      "padding": null,
      "right": null,
      "top": null,
      "visibility": null,
      "width": null
     }
    },
    "9ca0c142d6dd49a2993e5a44bc98aa2a": {
     "model_module": "@jupyter-widgets/base",
     "model_module_version": "1.2.0",
     "model_name": "LayoutModel",
     "state": {
      "_model_module": "@jupyter-widgets/base",
      "_model_module_version": "1.2.0",
      "_model_name": "LayoutModel",
      "_view_count": null,
      "_view_module": "@jupyter-widgets/base",
      "_view_module_version": "1.2.0",
      "_view_name": "LayoutView",
      "align_content": null,
      "align_items": null,
      "align_self": null,
      "border": null,
      "bottom": null,
      "display": null,
      "flex": null,
      "flex_flow": null,
      "grid_area": null,
      "grid_auto_columns": null,
      "grid_auto_flow": null,
      "grid_auto_rows": null,
      "grid_column": null,
      "grid_gap": null,
      "grid_row": null,
      "grid_template_areas": null,
      "grid_template_columns": null,
      "grid_template_rows": null,
      "height": null,
      "justify_content": null,
      "justify_items": null,
      "left": null,
      "margin": null,
      "max_height": null,
      "max_width": null,
      "min_height": null,
      "min_width": null,
      "object_fit": null,
      "object_position": null,
      "order": null,
      "overflow": null,
      "overflow_x": null,
      "overflow_y": null,
      "padding": null,
      "right": null,
      "top": null,
      "visibility": null,
      "width": null
     }
    },
    "a1647bd898154355af84e4cd40b640e2": {
     "model_module": "@jupyter-widgets/controls",
     "model_module_version": "1.5.0",
     "model_name": "HTMLModel",
     "state": {
      "_dom_classes": [],
      "_model_module": "@jupyter-widgets/controls",
      "_model_module_version": "1.5.0",
      "_model_name": "HTMLModel",
      "_view_count": null,
      "_view_module": "@jupyter-widgets/controls",
      "_view_module_version": "1.5.0",
      "_view_name": "HTMLView",
      "description": "",
      "description_tooltip": null,
      "layout": "IPY_MODEL_deaa0567a9ab4b018f1f438573ca0de7",
      "placeholder": "​",
      "style": "IPY_MODEL_3d37f4e0e6ed4f68b1b528b629b68e7a",
      "value": " 200000/200000 [00:16&lt;00:00, 15401.29ex/s]"
     }
    },
    "a1dfa9993d5447c9ae8cdd841d3da85d": {
     "model_module": "@jupyter-widgets/controls",
     "model_module_version": "1.5.0",
     "model_name": "FloatProgressModel",
     "state": {
      "_dom_classes": [],
      "_model_module": "@jupyter-widgets/controls",
      "_model_module_version": "1.5.0",
      "_model_name": "FloatProgressModel",
      "_view_count": null,
      "_view_module": "@jupyter-widgets/controls",
      "_view_module_version": "1.5.0",
      "_view_name": "ProgressView",
      "bar_style": "success",
      "description": "",
      "description_tooltip": null,
      "layout": "IPY_MODEL_d06d3702eb6946cc8588529de9d3ca6b",
      "max": 200000,
      "min": 0,
      "orientation": "horizontal",
      "style": "IPY_MODEL_4376e1da99ec4d5c83c6d91be9ccaf6c",
      "value": 200000
     }
    },
    "a3680baae321409c9908e9832fe7723c": {
     "model_module": "@jupyter-widgets/controls",
     "model_module_version": "1.5.0",
     "model_name": "FloatProgressModel",
     "state": {
      "_dom_classes": [],
      "_model_module": "@jupyter-widgets/controls",
      "_model_module_version": "1.5.0",
      "_model_name": "FloatProgressModel",
      "_view_count": null,
      "_view_module": "@jupyter-widgets/controls",
      "_view_module_version": "1.5.0",
      "_view_name": "ProgressView",
      "bar_style": "success",
      "description": "",
      "description_tooltip": null,
      "layout": "IPY_MODEL_5d7482d58500487ea1829160a747cf30",
      "max": 3003,
      "min": 0,
      "orientation": "horizontal",
      "style": "IPY_MODEL_a550a612fa0d4473921cc6951c0635e5",
      "value": 3003
     }
    },
    "a525cfe339ca4ef69ec1027fbff39cf8": {
     "model_module": "@jupyter-widgets/controls",
     "model_module_version": "1.5.0",
     "model_name": "HTMLModel",
     "state": {
      "_dom_classes": [],
      "_model_module": "@jupyter-widgets/controls",
      "_model_module_version": "1.5.0",
      "_model_name": "HTMLModel",
      "_view_count": null,
      "_view_module": "@jupyter-widgets/controls",
      "_view_module_version": "1.5.0",
      "_view_name": "HTMLView",
      "description": "",
      "description_tooltip": null,
      "layout": "IPY_MODEL_56e9929df2ca4166871ff6cd7f73abd8",
      "placeholder": "​",
      "style": "IPY_MODEL_7e58161685c04c1f81d2c815704e9dda",
      "value": "100%"
     }
    },
    "a550a612fa0d4473921cc6951c0635e5": {
     "model_module": "@jupyter-widgets/controls",
     "model_module_version": "1.5.0",
     "model_name": "ProgressStyleModel",
     "state": {
      "_model_module": "@jupyter-widgets/controls",
      "_model_module_version": "1.5.0",
      "_model_name": "ProgressStyleModel",
      "_view_count": null,
      "_view_module": "@jupyter-widgets/base",
      "_view_module_version": "1.2.0",
      "_view_name": "StyleView",
      "bar_color": null,
      "description_width": ""
     }
    },
    "a59c878a876c4d399a1f4d0dcb83d665": {
     "model_module": "@jupyter-widgets/controls",
     "model_module_version": "1.5.0",
     "model_name": "HTMLModel",
     "state": {
      "_dom_classes": [],
      "_model_module": "@jupyter-widgets/controls",
      "_model_module_version": "1.5.0",
      "_model_name": "HTMLModel",
      "_view_count": null,
      "_view_module": "@jupyter-widgets/controls",
      "_view_module_version": "1.5.0",
      "_view_name": "HTMLView",
      "description": "",
      "description_tooltip": null,
      "layout": "IPY_MODEL_900a13ace85e4d47a5c3ef41a0348983",
      "placeholder": "​",
      "style": "IPY_MODEL_b648581591a04bf7baa66bb428a2cc6a",
      "value": " 200000/200000 [00:30&lt;00:00, 7222.98ex/s]"
     }
    },
    "acd19f6a8ad94f5bb28671efa29504f8": {
     "model_module": "@jupyter-widgets/controls",
     "model_module_version": "1.5.0",
     "model_name": "HBoxModel",
     "state": {
      "_dom_classes": [],
      "_model_module": "@jupyter-widgets/controls",
      "_model_module_version": "1.5.0",
      "_model_name": "HBoxModel",
      "_view_count": null,
      "_view_module": "@jupyter-widgets/controls",
      "_view_module_version": "1.5.0",
      "_view_name": "HBoxView",
      "box_style": "",
      "children": [
       "IPY_MODEL_a525cfe339ca4ef69ec1027fbff39cf8",
       "IPY_MODEL_0d3ab96559df4fe5a4b9a46e4f951ee8",
       "IPY_MODEL_e6c0945fdcdf4cc8972fe6e6145cb0bb"
      ],
      "layout": "IPY_MODEL_ff0b8ae6b2d146b4b37b8bad86f5afe1"
     }
    },
    "ad2ad682e9ba462d93a300e1112cc503": {
     "model_module": "@jupyter-widgets/controls",
     "model_module_version": "1.5.0",
     "model_name": "DescriptionStyleModel",
     "state": {
      "_model_module": "@jupyter-widgets/controls",
      "_model_module_version": "1.5.0",
      "_model_name": "DescriptionStyleModel",
      "_view_count": null,
      "_view_module": "@jupyter-widgets/base",
      "_view_module_version": "1.2.0",
      "_view_name": "StyleView",
      "description_width": ""
     }
    },
    "b648581591a04bf7baa66bb428a2cc6a": {
     "model_module": "@jupyter-widgets/controls",
     "model_module_version": "1.5.0",
     "model_name": "DescriptionStyleModel",
     "state": {
      "_model_module": "@jupyter-widgets/controls",
      "_model_module_version": "1.5.0",
      "_model_name": "DescriptionStyleModel",
      "_view_count": null,
      "_view_module": "@jupyter-widgets/base",
      "_view_module_version": "1.2.0",
      "_view_name": "StyleView",
      "description_width": ""
     }
    },
    "b6520c99a8924c4e9a49736516022426": {
     "model_module": "@jupyter-widgets/controls",
     "model_module_version": "1.5.0",
     "model_name": "DescriptionStyleModel",
     "state": {
      "_model_module": "@jupyter-widgets/controls",
      "_model_module_version": "1.5.0",
      "_model_name": "DescriptionStyleModel",
      "_view_count": null,
      "_view_module": "@jupyter-widgets/base",
      "_view_module_version": "1.2.0",
      "_view_name": "StyleView",
      "description_width": ""
     }
    },
    "b6727d4410514eccabe3dbba33699892": {
     "model_module": "@jupyter-widgets/controls",
     "model_module_version": "1.5.0",
     "model_name": "DescriptionStyleModel",
     "state": {
      "_model_module": "@jupyter-widgets/controls",
      "_model_module_version": "1.5.0",
      "_model_name": "DescriptionStyleModel",
      "_view_count": null,
      "_view_module": "@jupyter-widgets/base",
      "_view_module_version": "1.2.0",
      "_view_name": "StyleView",
      "description_width": ""
     }
    },
    "ba7e28b12c9e4d33b85bee1accc1c517": {
     "model_module": "@jupyter-widgets/base",
     "model_module_version": "1.2.0",
     "model_name": "LayoutModel",
     "state": {
      "_model_module": "@jupyter-widgets/base",
      "_model_module_version": "1.2.0",
      "_model_name": "LayoutModel",
      "_view_count": null,
      "_view_module": "@jupyter-widgets/base",
      "_view_module_version": "1.2.0",
      "_view_name": "LayoutView",
      "align_content": null,
      "align_items": null,
      "align_self": null,
      "border": null,
      "bottom": null,
      "display": null,
      "flex": null,
      "flex_flow": null,
      "grid_area": null,
      "grid_auto_columns": null,
      "grid_auto_flow": null,
      "grid_auto_rows": null,
      "grid_column": null,
      "grid_gap": null,
      "grid_row": null,
      "grid_template_areas": null,
      "grid_template_columns": null,
      "grid_template_rows": null,
      "height": null,
      "justify_content": null,
      "justify_items": null,
      "left": null,
      "margin": null,
      "max_height": null,
      "max_width": null,
      "min_height": null,
      "min_width": null,
      "object_fit": null,
      "object_position": null,
      "order": null,
      "overflow": null,
      "overflow_x": null,
      "overflow_y": null,
      "padding": null,
      "right": null,
      "top": null,
      "visibility": null,
      "width": null
     }
    },
    "ba9aba6aab3340c6a0670d0ffb4f349d": {
     "model_module": "@jupyter-widgets/controls",
     "model_module_version": "1.5.0",
     "model_name": "HTMLModel",
     "state": {
      "_dom_classes": [],
      "_model_module": "@jupyter-widgets/controls",
      "_model_module_version": "1.5.0",
      "_model_name": "HTMLModel",
      "_view_count": null,
      "_view_module": "@jupyter-widgets/controls",
      "_view_module_version": "1.5.0",
      "_view_name": "HTMLView",
      "description": "",
      "description_tooltip": null,
      "layout": "IPY_MODEL_d0255aa55590441b93a29e2949efd687",
      "placeholder": "​",
      "style": "IPY_MODEL_b6520c99a8924c4e9a49736516022426",
      "value": "100%"
     }
    },
    "bd47e51c7a634cc280f4afed1d0fe972": {
     "model_module": "@jupyter-widgets/controls",
     "model_module_version": "1.5.0",
     "model_name": "HTMLModel",
     "state": {
      "_dom_classes": [],
      "_model_module": "@jupyter-widgets/controls",
      "_model_module_version": "1.5.0",
      "_model_name": "HTMLModel",
      "_view_count": null,
      "_view_module": "@jupyter-widgets/controls",
      "_view_module_version": "1.5.0",
      "_view_name": "HTMLView",
      "description": "",
      "description_tooltip": null,
      "layout": "IPY_MODEL_9ca0c142d6dd49a2993e5a44bc98aa2a",
      "placeholder": "​",
      "style": "IPY_MODEL_6dd7aa45d175417e92155cbd962dab3e",
      "value": " 3000/3000 [00:00&lt;00:00, 7878.16ex/s]"
     }
    },
    "d0255aa55590441b93a29e2949efd687": {
     "model_module": "@jupyter-widgets/base",
     "model_module_version": "1.2.0",
     "model_name": "LayoutModel",
     "state": {
      "_model_module": "@jupyter-widgets/base",
      "_model_module_version": "1.2.0",
      "_model_name": "LayoutModel",
      "_view_count": null,
      "_view_module": "@jupyter-widgets/base",
      "_view_module_version": "1.2.0",
      "_view_name": "LayoutView",
      "align_content": null,
      "align_items": null,
      "align_self": null,
      "border": null,
      "bottom": null,
      "display": null,
      "flex": null,
      "flex_flow": null,
      "grid_area": null,
      "grid_auto_columns": null,
      "grid_auto_flow": null,
      "grid_auto_rows": null,
      "grid_column": null,
      "grid_gap": null,
      "grid_row": null,
      "grid_template_areas": null,
      "grid_template_columns": null,
      "grid_template_rows": null,
      "height": null,
      "justify_content": null,
      "justify_items": null,
      "left": null,
      "margin": null,
      "max_height": null,
      "max_width": null,
      "min_height": null,
      "min_width": null,
      "object_fit": null,
      "object_position": null,
      "order": null,
      "overflow": null,
      "overflow_x": null,
      "overflow_y": null,
      "padding": null,
      "right": null,
      "top": null,
      "visibility": null,
      "width": null
     }
    },
    "d06d3702eb6946cc8588529de9d3ca6b": {
     "model_module": "@jupyter-widgets/base",
     "model_module_version": "1.2.0",
     "model_name": "LayoutModel",
     "state": {
      "_model_module": "@jupyter-widgets/base",
      "_model_module_version": "1.2.0",
      "_model_name": "LayoutModel",
      "_view_count": null,
      "_view_module": "@jupyter-widgets/base",
      "_view_module_version": "1.2.0",
      "_view_name": "LayoutView",
      "align_content": null,
      "align_items": null,
      "align_self": null,
      "border": null,
      "bottom": null,
      "display": null,
      "flex": null,
      "flex_flow": null,
      "grid_area": null,
      "grid_auto_columns": null,
      "grid_auto_flow": null,
      "grid_auto_rows": null,
      "grid_column": null,
      "grid_gap": null,
      "grid_row": null,
      "grid_template_areas": null,
      "grid_template_columns": null,
      "grid_template_rows": null,
      "height": null,
      "justify_content": null,
      "justify_items": null,
      "left": null,
      "margin": null,
      "max_height": null,
      "max_width": null,
      "min_height": null,
      "min_width": null,
      "object_fit": null,
      "object_position": null,
      "order": null,
      "overflow": null,
      "overflow_x": null,
      "overflow_y": null,
      "padding": null,
      "right": null,
      "top": null,
      "visibility": null,
      "width": null
     }
    },
    "d5eed8d61c774a69af0761498287352f": {
     "model_module": "@jupyter-widgets/controls",
     "model_module_version": "1.5.0",
     "model_name": "FloatProgressModel",
     "state": {
      "_dom_classes": [],
      "_model_module": "@jupyter-widgets/controls",
      "_model_module_version": "1.5.0",
      "_model_name": "FloatProgressModel",
      "_view_count": null,
      "_view_module": "@jupyter-widgets/controls",
      "_view_module_version": "1.5.0",
      "_view_name": "ProgressView",
      "bar_style": "success",
      "description": "",
      "description_tooltip": null,
      "layout": "IPY_MODEL_903724591b5340c69b8e8e3305a6f383",
      "max": 3000,
      "min": 0,
      "orientation": "horizontal",
      "style": "IPY_MODEL_f96e2aa1aa704bc9a2399aa381044324",
      "value": 3000
     }
    },
    "d6ea1b9a4ec749248c6fa439d8e9dcce": {
     "model_module": "@jupyter-widgets/base",
     "model_module_version": "1.2.0",
     "model_name": "LayoutModel",
     "state": {
      "_model_module": "@jupyter-widgets/base",
      "_model_module_version": "1.2.0",
      "_model_name": "LayoutModel",
      "_view_count": null,
      "_view_module": "@jupyter-widgets/base",
      "_view_module_version": "1.2.0",
      "_view_name": "LayoutView",
      "align_content": null,
      "align_items": null,
      "align_self": null,
      "border": null,
      "bottom": null,
      "display": null,
      "flex": null,
      "flex_flow": null,
      "grid_area": null,
      "grid_auto_columns": null,
      "grid_auto_flow": null,
      "grid_auto_rows": null,
      "grid_column": null,
      "grid_gap": null,
      "grid_row": null,
      "grid_template_areas": null,
      "grid_template_columns": null,
      "grid_template_rows": null,
      "height": null,
      "justify_content": null,
      "justify_items": null,
      "left": null,
      "margin": null,
      "max_height": null,
      "max_width": null,
      "min_height": null,
      "min_width": null,
      "object_fit": null,
      "object_position": null,
      "order": null,
      "overflow": null,
      "overflow_x": null,
      "overflow_y": null,
      "padding": null,
      "right": null,
      "top": null,
      "visibility": null,
      "width": null
     }
    },
    "deaa0567a9ab4b018f1f438573ca0de7": {
     "model_module": "@jupyter-widgets/base",
     "model_module_version": "1.2.0",
     "model_name": "LayoutModel",
     "state": {
      "_model_module": "@jupyter-widgets/base",
      "_model_module_version": "1.2.0",
      "_model_name": "LayoutModel",
      "_view_count": null,
      "_view_module": "@jupyter-widgets/base",
      "_view_module_version": "1.2.0",
      "_view_name": "LayoutView",
      "align_content": null,
      "align_items": null,
      "align_self": null,
      "border": null,
      "bottom": null,
      "display": null,
      "flex": null,
      "flex_flow": null,
      "grid_area": null,
      "grid_auto_columns": null,
      "grid_auto_flow": null,
      "grid_auto_rows": null,
      "grid_column": null,
      "grid_gap": null,
      "grid_row": null,
      "grid_template_areas": null,
      "grid_template_columns": null,
      "grid_template_rows": null,
      "height": null,
      "justify_content": null,
      "justify_items": null,
      "left": null,
      "margin": null,
      "max_height": null,
      "max_width": null,
      "min_height": null,
      "min_width": null,
      "object_fit": null,
      "object_position": null,
      "order": null,
      "overflow": null,
      "overflow_x": null,
      "overflow_y": null,
      "padding": null,
      "right": null,
      "top": null,
      "visibility": null,
      "width": null
     }
    },
    "e64f3b75e0b64c6e8f738c1af6e89217": {
     "model_module": "@jupyter-widgets/controls",
     "model_module_version": "1.5.0",
     "model_name": "HTMLModel",
     "state": {
      "_dom_classes": [],
      "_model_module": "@jupyter-widgets/controls",
      "_model_module_version": "1.5.0",
      "_model_name": "HTMLModel",
      "_view_count": null,
      "_view_module": "@jupyter-widgets/controls",
      "_view_module_version": "1.5.0",
      "_view_name": "HTMLView",
      "description": "",
      "description_tooltip": null,
      "layout": "IPY_MODEL_3a2ce5780e2240b4bb078e00f9fd7b99",
      "placeholder": "​",
      "style": "IPY_MODEL_5022c96c2f84468f8e71c107c9930544",
      "value": " 3003/3003 [00:00&lt;00:00, 7456.07ex/s]"
     }
    },
    "e6c0945fdcdf4cc8972fe6e6145cb0bb": {
     "model_module": "@jupyter-widgets/controls",
     "model_module_version": "1.5.0",
     "model_name": "HTMLModel",
     "state": {
      "_dom_classes": [],
      "_model_module": "@jupyter-widgets/controls",
      "_model_module_version": "1.5.0",
      "_model_name": "HTMLModel",
      "_view_count": null,
      "_view_module": "@jupyter-widgets/controls",
      "_view_module_version": "1.5.0",
      "_view_name": "HTMLView",
      "description": "",
      "description_tooltip": null,
      "layout": "IPY_MODEL_1c6e0d4112d547ecba9312569520be89",
      "placeholder": "​",
      "style": "IPY_MODEL_51ec9e01f835437aa8fc7e22595ed03e",
      "value": " 3/3 [00:00&lt;00:00,  1.44it/s]"
     }
    },
    "e6e400fb5e514e09b2c7093b9de14bee": {
     "model_module": "@jupyter-widgets/base",
     "model_module_version": "1.2.0",
     "model_name": "LayoutModel",
     "state": {
      "_model_module": "@jupyter-widgets/base",
      "_model_module_version": "1.2.0",
      "_model_name": "LayoutModel",
      "_view_count": null,
      "_view_module": "@jupyter-widgets/base",
      "_view_module_version": "1.2.0",
      "_view_name": "LayoutView",
      "align_content": null,
      "align_items": null,
      "align_self": null,
      "border": null,
      "bottom": null,
      "display": null,
      "flex": null,
      "flex_flow": null,
      "grid_area": null,
      "grid_auto_columns": null,
      "grid_auto_flow": null,
      "grid_auto_rows": null,
      "grid_column": null,
      "grid_gap": null,
      "grid_row": null,
      "grid_template_areas": null,
      "grid_template_columns": null,
      "grid_template_rows": null,
      "height": null,
      "justify_content": null,
      "justify_items": null,
      "left": null,
      "margin": null,
      "max_height": null,
      "max_width": null,
      "min_height": null,
      "min_width": null,
      "object_fit": null,
      "object_position": null,
      "order": null,
      "overflow": null,
      "overflow_x": null,
      "overflow_y": null,
      "padding": null,
      "right": null,
      "top": null,
      "visibility": null,
      "width": null
     }
    },
    "eb45c9ae884e4f6ead3d20da8197656b": {
     "model_module": "@jupyter-widgets/controls",
     "model_module_version": "1.5.0",
     "model_name": "HTMLModel",
     "state": {
      "_dom_classes": [],
      "_model_module": "@jupyter-widgets/controls",
      "_model_module_version": "1.5.0",
      "_model_name": "HTMLModel",
      "_view_count": null,
      "_view_module": "@jupyter-widgets/controls",
      "_view_module_version": "1.5.0",
      "_view_name": "HTMLView",
      "description": "",
      "description_tooltip": null,
      "layout": "IPY_MODEL_ba7e28b12c9e4d33b85bee1accc1c517",
      "placeholder": "​",
      "style": "IPY_MODEL_ad2ad682e9ba462d93a300e1112cc503",
      "value": " 3003/3003 [00:00&lt;00:00, 13663.40ex/s]"
     }
    },
    "ece7c11c104642e68410a8c64f524897": {
     "model_module": "@jupyter-widgets/controls",
     "model_module_version": "1.5.0",
     "model_name": "HTMLModel",
     "state": {
      "_dom_classes": [],
      "_model_module": "@jupyter-widgets/controls",
      "_model_module_version": "1.5.0",
      "_model_name": "HTMLModel",
      "_view_count": null,
      "_view_module": "@jupyter-widgets/controls",
      "_view_module_version": "1.5.0",
      "_view_name": "HTMLView",
      "description": "",
      "description_tooltip": null,
      "layout": "IPY_MODEL_8c3292d2954046c2a1bea7576b0b3e0e",
      "placeholder": "​",
      "style": "IPY_MODEL_3caea78cc43a42c79020b702df4722d5",
      "value": "100%"
     }
    },
    "ed020147f5e04d41b9f06fa0bd49b17e": {
     "model_module": "@jupyter-widgets/controls",
     "model_module_version": "1.5.0",
     "model_name": "HBoxModel",
     "state": {
      "_dom_classes": [],
      "_model_module": "@jupyter-widgets/controls",
      "_model_module_version": "1.5.0",
      "_model_name": "HBoxModel",
      "_view_count": null,
      "_view_module": "@jupyter-widgets/controls",
      "_view_module_version": "1.5.0",
      "_view_name": "HBoxView",
      "box_style": "",
      "children": [
       "IPY_MODEL_12453d00f70f4f36be68aa6a82f5979f",
       "IPY_MODEL_a3680baae321409c9908e9832fe7723c",
       "IPY_MODEL_eb45c9ae884e4f6ead3d20da8197656b"
      ],
      "layout": "IPY_MODEL_56891c639e574239b7108318348ea026"
     }
    },
    "efa8f901559f4d278b554da5b956a0a8": {
     "model_module": "@jupyter-widgets/controls",
     "model_module_version": "1.5.0",
     "model_name": "HBoxModel",
     "state": {
      "_dom_classes": [],
      "_model_module": "@jupyter-widgets/controls",
      "_model_module_version": "1.5.0",
      "_model_name": "HBoxModel",
      "_view_count": null,
      "_view_module": "@jupyter-widgets/controls",
      "_view_module_version": "1.5.0",
      "_view_name": "HBoxView",
      "box_style": "",
      "children": [
       "IPY_MODEL_ba9aba6aab3340c6a0670d0ffb4f349d",
       "IPY_MODEL_1217e7c0c24645928d1f0235d8858ad2",
       "IPY_MODEL_e64f3b75e0b64c6e8f738c1af6e89217"
      ],
      "layout": "IPY_MODEL_79eb3cea64c342e5b43688c18a794113"
     }
    },
    "f96e2aa1aa704bc9a2399aa381044324": {
     "model_module": "@jupyter-widgets/controls",
     "model_module_version": "1.5.0",
     "model_name": "ProgressStyleModel",
     "state": {
      "_model_module": "@jupyter-widgets/controls",
      "_model_module_version": "1.5.0",
      "_model_name": "ProgressStyleModel",
      "_view_count": null,
      "_view_module": "@jupyter-widgets/base",
      "_view_module_version": "1.2.0",
      "_view_name": "StyleView",
      "bar_color": null,
      "description_width": ""
     }
    },
    "fc999e90317b45258952bfd2dce28612": {
     "model_module": "@jupyter-widgets/base",
     "model_module_version": "1.2.0",
     "model_name": "LayoutModel",
     "state": {
      "_model_module": "@jupyter-widgets/base",
      "_model_module_version": "1.2.0",
      "_model_name": "LayoutModel",
      "_view_count": null,
      "_view_module": "@jupyter-widgets/base",
      "_view_module_version": "1.2.0",
      "_view_name": "LayoutView",
      "align_content": null,
      "align_items": null,
      "align_self": null,
      "border": null,
      "bottom": null,
      "display": null,
      "flex": null,
      "flex_flow": null,
      "grid_area": null,
      "grid_auto_columns": null,
      "grid_auto_flow": null,
      "grid_auto_rows": null,
      "grid_column": null,
      "grid_gap": null,
      "grid_row": null,
      "grid_template_areas": null,
      "grid_template_columns": null,
      "grid_template_rows": null,
      "height": null,
      "justify_content": null,
      "justify_items": null,
      "left": null,
      "margin": null,
      "max_height": null,
      "max_width": null,
      "min_height": null,
      "min_width": null,
      "object_fit": null,
      "object_position": null,
      "order": null,
      "overflow": null,
      "overflow_x": null,
      "overflow_y": null,
      "padding": null,
      "right": null,
      "top": null,
      "visibility": null,
      "width": null
     }
    },
    "fcaccd49bda949fb96d038a7709d6446": {
     "model_module": "@jupyter-widgets/controls",
     "model_module_version": "1.5.0",
     "model_name": "HBoxModel",
     "state": {
      "_dom_classes": [],
      "_model_module": "@jupyter-widgets/controls",
      "_model_module_version": "1.5.0",
      "_model_name": "HBoxModel",
      "_view_count": null,
      "_view_module": "@jupyter-widgets/controls",
      "_view_module_version": "1.5.0",
      "_view_name": "HBoxView",
      "box_style": "",
      "children": [
       "IPY_MODEL_27d9f59dff454364a43cedcfa79faf1c",
       "IPY_MODEL_3cd6bdd45cd94c38be86e9d74fd8957c",
       "IPY_MODEL_03bb9119db5e4316851e0fd1c092d779"
      ],
      "layout": "IPY_MODEL_6f62770c57ef4eacb3002a620ee9d5d4"
     }
    },
    "fe376cc63ebc4b04878e08cf056bfa5f": {
     "model_module": "@jupyter-widgets/controls",
     "model_module_version": "1.5.0",
     "model_name": "HBoxModel",
     "state": {
      "_dom_classes": [],
      "_model_module": "@jupyter-widgets/controls",
      "_model_module_version": "1.5.0",
      "_model_name": "HBoxModel",
      "_view_count": null,
      "_view_module": "@jupyter-widgets/controls",
      "_view_module_version": "1.5.0",
      "_view_name": "HBoxView",
      "box_style": "",
      "children": [
       "IPY_MODEL_8fd3e77ded3640649bc2927272d182fe",
       "IPY_MODEL_a1dfa9993d5447c9ae8cdd841d3da85d",
       "IPY_MODEL_a59c878a876c4d399a1f4d0dcb83d665"
      ],
      "layout": "IPY_MODEL_005b816f9afc4d598d0efe92b6e2e2cb"
     }
    },
    "ff0b8ae6b2d146b4b37b8bad86f5afe1": {
     "model_module": "@jupyter-widgets/base",
     "model_module_version": "1.2.0",
     "model_name": "LayoutModel",
     "state": {
      "_model_module": "@jupyter-widgets/base",
      "_model_module_version": "1.2.0",
      "_model_name": "LayoutModel",
      "_view_count": null,
      "_view_module": "@jupyter-widgets/base",
      "_view_module_version": "1.2.0",
      "_view_name": "LayoutView",
      "align_content": null,
      "align_items": null,
      "align_self": null,
      "border": null,
      "bottom": null,
      "display": null,
      "flex": null,
      "flex_flow": null,
      "grid_area": null,
      "grid_auto_columns": null,
      "grid_auto_flow": null,
      "grid_auto_rows": null,
      "grid_column": null,
      "grid_gap": null,
      "grid_row": null,
      "grid_template_areas": null,
      "grid_template_columns": null,
      "grid_template_rows": null,
      "height": null,
      "justify_content": null,
      "justify_items": null,
      "left": null,
      "margin": null,
      "max_height": null,
      "max_width": null,
      "min_height": null,
      "min_width": null,
      "object_fit": null,
      "object_position": null,
      "order": null,
      "overflow": null,
      "overflow_x": null,
      "overflow_y": null,
      "padding": null,
      "right": null,
      "top": null,
      "visibility": null,
      "width": null
     }
    }
   }
  }
 },
 "nbformat": 4,
 "nbformat_minor": 5
}
